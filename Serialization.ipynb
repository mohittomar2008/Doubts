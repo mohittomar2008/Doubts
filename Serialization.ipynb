{
 "cells": [
  {
   "cell_type": "markdown",
   "id": "8d7ce9ec",
   "metadata": {},
   "source": [
    "# Serialization"
   ]
  },
  {
   "cell_type": "code",
   "execution_count": 1,
   "id": "ea112b09",
   "metadata": {},
   "outputs": [],
   "source": [
    "# Variables can be saved in .obj so later on can be used with any programmimg language which supports OOPS concept."
   ]
  },
  {
   "cell_type": "code",
   "execution_count": 1,
   "id": "6ac9273f",
   "metadata": {},
   "outputs": [],
   "source": [
    "import pickle"
   ]
  },
  {
   "cell_type": "code",
   "execution_count": 2,
   "id": "3665fb0d",
   "metadata": {},
   "outputs": [],
   "source": [
    "flowers={1:'Rose',2:'Lily',3:'Lotus',4:'Tulip'}"
   ]
  },
  {
   "cell_type": "code",
   "execution_count": 3,
   "id": "f267ca88",
   "metadata": {},
   "outputs": [
    {
     "data": {
      "text/plain": [
       "{1: 'Rose', 2: 'Lily', 3: 'Lotus', 4: 'Tulip'}"
      ]
     },
     "execution_count": 3,
     "metadata": {},
     "output_type": "execute_result"
    }
   ],
   "source": [
    "flowers"
   ]
  },
  {
   "cell_type": "code",
   "execution_count": 4,
   "id": "6bed3f85",
   "metadata": {},
   "outputs": [],
   "source": [
    "# now need to create .obj"
   ]
  },
  {
   "cell_type": "code",
   "execution_count": 5,
   "id": "372bd506",
   "metadata": {},
   "outputs": [],
   "source": [
    "#Create a new file and write flower file contect in binary\n",
    "outfile=open('flower.obj','wb')    # wb means write binary\n"
   ]
  },
  {
   "cell_type": "code",
   "execution_count": 6,
   "id": "b2b815ea",
   "metadata": {},
   "outputs": [],
   "source": [
    "# pickle the file\n",
    "\n",
    "pickle.dump(flowers,outfile)  #  dump flower dict data into flower.obj in binary"
   ]
  },
  {
   "cell_type": "code",
   "execution_count": 7,
   "id": "271d2f3d",
   "metadata": {},
   "outputs": [],
   "source": [
    "outfile.close() # close this file"
   ]
  },
  {
   "cell_type": "code",
   "execution_count": 8,
   "id": "013337fd",
   "metadata": {},
   "outputs": [],
   "source": [
    "# open tha binary file\n",
    "\n",
    "file=open('flower.obj','rb')\n"
   ]
  },
  {
   "cell_type": "code",
   "execution_count": 9,
   "id": "58c7427f",
   "metadata": {},
   "outputs": [],
   "source": [
    "# de-serialization\n",
    "new_dict=pickle.load(file)"
   ]
  },
  {
   "cell_type": "code",
   "execution_count": 10,
   "id": "30ba003e",
   "metadata": {},
   "outputs": [],
   "source": [
    "file.close()"
   ]
  },
  {
   "cell_type": "code",
   "execution_count": 11,
   "id": "b1d744fc",
   "metadata": {},
   "outputs": [
    {
     "name": "stdout",
     "output_type": "stream",
     "text": [
      "{1: 'Rose', 2: 'Lily', 3: 'Lotus', 4: 'Tulip'}\n"
     ]
    }
   ],
   "source": [
    "print(new_dict)"
   ]
  },
  {
   "cell_type": "code",
   "execution_count": 12,
   "id": "4683b490",
   "metadata": {},
   "outputs": [
    {
     "name": "stdout",
     "output_type": "stream",
     "text": [
      "True\n"
     ]
    }
   ],
   "source": [
    "print(new_dict==flowers)"
   ]
  },
  {
   "cell_type": "code",
   "execution_count": null,
   "id": "41b06921",
   "metadata": {},
   "outputs": [],
   "source": [
    "# New example"
   ]
  },
  {
   "cell_type": "code",
   "execution_count": 2,
   "id": "6d2ae216",
   "metadata": {},
   "outputs": [],
   "source": [
    "mydict={'Name':'Mohit',\"Rank\": 3,3:'Three'}"
   ]
  },
  {
   "cell_type": "code",
   "execution_count": 3,
   "id": "caf5dab6",
   "metadata": {},
   "outputs": [],
   "source": [
    "pickle.dump(mydict,open('mydict.obj','wb'))"
   ]
  },
  {
   "cell_type": "code",
   "execution_count": 4,
   "id": "f3d4c35c",
   "metadata": {},
   "outputs": [
    {
     "name": "stdout",
     "output_type": "stream",
     "text": [
      "{'Name': 'Mohit', 'Rank': 3, 3: 'Three'}\n"
     ]
    }
   ],
   "source": [
    "# now open .obj file\n",
    "db=open('mydict.obj','rb')\n",
    "print(pickle.load(db))\n"
   ]
  },
  {
   "cell_type": "code",
   "execution_count": null,
   "id": "6cd16082",
   "metadata": {},
   "outputs": [],
   "source": []
  },
  {
   "cell_type": "code",
   "execution_count": null,
   "id": "822efc9b",
   "metadata": {},
   "outputs": [],
   "source": []
  },
  {
   "cell_type": "code",
   "execution_count": null,
   "id": "5c2a1321",
   "metadata": {},
   "outputs": [],
   "source": []
  },
  {
   "cell_type": "code",
   "execution_count": null,
   "id": "12a160ad",
   "metadata": {},
   "outputs": [],
   "source": []
  },
  {
   "cell_type": "code",
   "execution_count": null,
   "id": "7b892849",
   "metadata": {},
   "outputs": [],
   "source": []
  },
  {
   "cell_type": "code",
   "execution_count": null,
   "id": "937e852c",
   "metadata": {},
   "outputs": [],
   "source": []
  },
  {
   "cell_type": "markdown",
   "id": "9d05b5d0",
   "metadata": {},
   "source": [
    "# I have installed .obj database form internet, lets access it"
   ]
  },
  {
   "cell_type": "code",
   "execution_count": 22,
   "id": "37721b87",
   "metadata": {},
   "outputs": [
    {
     "ename": "UnpicklingError",
     "evalue": "invalid load key, '#'.",
     "output_type": "error",
     "traceback": [
      "\u001b[1;31m---------------------------------------------------------------------------\u001b[0m",
      "\u001b[1;31mUnpicklingError\u001b[0m                           Traceback (most recent call last)",
      "\u001b[1;32m<ipython-input-22-75d75f859956>\u001b[0m in \u001b[0;36m<module>\u001b[1;34m\u001b[0m\n\u001b[0;32m      3\u001b[0m \u001b[0mfile1\u001b[0m\u001b[1;33m=\u001b[0m\u001b[0mopen\u001b[0m\u001b[1;33m(\u001b[0m\u001b[1;34m'IronMan.obj'\u001b[0m\u001b[1;33m,\u001b[0m\u001b[1;34m'rb'\u001b[0m\u001b[1;33m)\u001b[0m\u001b[1;33m\u001b[0m\u001b[1;33m\u001b[0m\u001b[0m\n\u001b[0;32m      4\u001b[0m \u001b[1;33m\u001b[0m\u001b[0m\n\u001b[1;32m----> 5\u001b[1;33m \u001b[0mnew\u001b[0m\u001b[1;33m=\u001b[0m \u001b[0mpickle\u001b[0m\u001b[1;33m.\u001b[0m\u001b[0mload\u001b[0m\u001b[1;33m(\u001b[0m\u001b[0mfile1\u001b[0m\u001b[1;33m)\u001b[0m\u001b[1;33m\u001b[0m\u001b[1;33m\u001b[0m\u001b[0m\n\u001b[0m",
      "\u001b[1;31mUnpicklingError\u001b[0m: invalid load key, '#'."
     ]
    }
   ],
   "source": [
    "# file name is IronMan.obj\n",
    "\n",
    "file1=open('IronMan.obj','rb')\n",
    "\n",
    "new= pickle.load(file1)"
   ]
  },
  {
   "cell_type": "code",
   "execution_count": 7,
   "id": "913c85d5",
   "metadata": {},
   "outputs": [
    {
     "ename": "UnpicklingError",
     "evalue": "invalid load key, '#'.",
     "output_type": "error",
     "traceback": [
      "\u001b[1;31m---------------------------------------------------------------------------\u001b[0m",
      "\u001b[1;31mUnpicklingError\u001b[0m                           Traceback (most recent call last)",
      "\u001b[1;32m<ipython-input-7-5ea2d80b7892>\u001b[0m in \u001b[0;36m<module>\u001b[1;34m\u001b[0m\n\u001b[0;32m      1\u001b[0m \u001b[0mpic\u001b[0m\u001b[1;33m=\u001b[0m\u001b[0mopen\u001b[0m\u001b[1;33m(\u001b[0m\u001b[1;34m'IronMan.obj'\u001b[0m\u001b[1;33m,\u001b[0m\u001b[1;34m'rb'\u001b[0m\u001b[1;33m)\u001b[0m\u001b[1;33m\u001b[0m\u001b[1;33m\u001b[0m\u001b[0m\n\u001b[1;32m----> 2\u001b[1;33m \u001b[0mprint\u001b[0m\u001b[1;33m(\u001b[0m\u001b[0mpickle\u001b[0m\u001b[1;33m.\u001b[0m\u001b[0mload\u001b[0m\u001b[1;33m(\u001b[0m\u001b[0mpic\u001b[0m\u001b[1;33m)\u001b[0m\u001b[1;33m)\u001b[0m\u001b[1;33m\u001b[0m\u001b[1;33m\u001b[0m\u001b[0m\n\u001b[0m",
      "\u001b[1;31mUnpicklingError\u001b[0m: invalid load key, '#'."
     ]
    }
   ],
   "source": [
    "pic=open('IronMan.obj','rb')\n",
    "print(pickle.load(pic))"
   ]
  },
  {
   "cell_type": "code",
   "execution_count": null,
   "id": "44fef61f",
   "metadata": {},
   "outputs": [],
   "source": []
  }
 ],
 "metadata": {
  "kernelspec": {
   "display_name": "Python 3",
   "language": "python",
   "name": "python3"
  },
  "language_info": {
   "codemirror_mode": {
    "name": "ipython",
    "version": 3
   },
   "file_extension": ".py",
   "mimetype": "text/x-python",
   "name": "python",
   "nbconvert_exporter": "python",
   "pygments_lexer": "ipython3",
   "version": "3.8.8"
  }
 },
 "nbformat": 4,
 "nbformat_minor": 5
}
