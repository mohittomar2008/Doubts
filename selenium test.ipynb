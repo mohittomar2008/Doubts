{
 "cells": [
  {
   "cell_type": "code",
   "execution_count": 12,
   "id": "86d78cda",
   "metadata": {},
   "outputs": [],
   "source": [
    "# import libraraies\n",
    "\n",
    "import selenium\n",
    "from selenium import webdriver\n",
    "import pandas as pd\n",
    "import warnings\n",
    "warnings.filterwarnings('ignore')\n"
   ]
  },
  {
   "cell_type": "code",
   "execution_count": 17,
   "id": "d289074e",
   "metadata": {},
   "outputs": [],
   "source": [
    "# lets connect to driver\n",
    "\n",
    "driver= webdriver.Chrome(r'C:\\Users\\Bank of America\\Downloads\\chromedriver_win32/chromedriver.exe')"
   ]
  },
  {
   "cell_type": "code",
   "execution_count": 18,
   "id": "0c07ec41",
   "metadata": {},
   "outputs": [],
   "source": [
    "url='https://www.naukri.com/'\n",
    "driver.get(url)\n",
    "    "
   ]
  },
  {
   "cell_type": "code",
   "execution_count": 19,
   "id": "171f3d47",
   "metadata": {},
   "outputs": [],
   "source": [
    "# Find Search bar for Job , location and enter data\n",
    "search_job= driver.find_element_by_xpath('/html/body/div/div[2]/div[3]/div/div/div[1]/div/div/div/input')\n",
    "search_location= driver.find_element_by_xpath('/html/body/div/div[2]/div[3]/div/div/div[3]/div/div/div/input')\n",
    "search_job.send_keys('Data Analyst')\n",
    "search_location.send_keys('Bangalore')\n",
    "\n",
    "\n",
    "# Click search button\n",
    "search_button=driver.find_element_by_xpath('/html/body/div/div[2]/div[3]/div/div/div[6]')\n",
    "search_button.click()"
   ]
  },
  {
   "cell_type": "markdown",
   "id": "b05efe9a",
   "metadata": {},
   "source": [
    "# Find Job Title,  Job-Location , Company Name, Experience Required"
   ]
  },
  {
   "cell_type": "code",
   "execution_count": 25,
   "id": "c4cebdc8",
   "metadata": {},
   "outputs": [],
   "source": [
    "title_tags= driver.find_elements_by_xpath('//a[@class=\"title fw500 ellipsis\"]')\n",
    "location_tags= driver.find_elements_by_xpath('//li[@class=\"fleft grey-text br2 placeHolderLi location\"]')\n",
    "company_tags= driver.find_elements_by_xpath('//a[@class=\"subTitle ellipsis fleft\"]')\n",
    "exp_tags= driver.find_elements_by_xpath('//li[@class=\"fleft grey-text br2 placeHolderLi experience\"]/span')\n",
    "\n",
    "title=[]\n",
    "location=[]\n",
    "company=[]\n",
    "exp=[]\n",
    "for i in title_tags:\n",
    "    title.append(i.text)\n",
    "for i in location_tags:\n",
    "    location.append(i.text)\n",
    "for i in company_tags:\n",
    "    company.append(i.text)\n",
    "for i in exp_tags:\n",
    "    exp.append(i.text)\n",
    "    \n",
    "    \n",
    "DataAnalyst=pd.DataFrame({'Job Title':title[0:10],'Company':company[0:10],'Location':location[0:10],'Experience':exp[0:10]})\n",
    "DataAnalyst.index +=1"
   ]
  },
  {
   "cell_type": "markdown",
   "id": "1d90fc72",
   "metadata": {},
   "source": [
    "# Q2: Write a python program to scrape data for “Data Scientist” Job position in “Bangalore” location. You have to scrape the job-title, job-location, company_name. You have to scrape first 10 jobs data.\n",
    "This task will be done in following steps:\n",
    "1. First get the webpage https://www.naukri.com/\n",
    "2. Enter “Data Scientist” in “Skill, Designations, Companies” field and enter “Bangalore” in “enter the location” field.\n",
    "3. Then click the search button.\n",
    "4. Then scrape the data for the first 10 jobs results you get.\n",
    "5. Finally create a dataframe of the scraped data.\n",
    "Note: All of the above steps have to be done in code. No step is to be done manually."
   ]
  },
  {
   "cell_type": "code",
   "execution_count": 28,
   "id": "e32ac144",
   "metadata": {},
   "outputs": [],
   "source": [
    "def page(url,profile,location):\n",
    "    driver= webdriver.Chrome(r'C:\\Users\\Bank of America\\Downloads\\chromedriver_win32/chromedriver.exe')\n",
    "    driver.get(url)\n",
    "    \n",
    "    search_job= driver.find_element_by_xpath('/html/body/div/div[2]/div[3]/div/div/div[1]/div/div/div/input')\n",
    "    search_location= driver.find_element_by_xpath('/html/body/div/div[2]/div[3]/div/div/div[3]/div/div/div/input')\n",
    "    search_job.send_keys(profile)\n",
    "    search_location.send_keys(location)\n",
    "    search_button=driver.find_element_by_xpath('/html/body/div/div[2]/div[3]/div/div/div[6]')\n",
    "    search_button.click()\n",
    "    \n",
    "    title_tags= driver.find_elements_by_xpath('//a[@class=\"title fw500 ellipsis\"]')\n",
    "    location_tags= driver.find_elements_by_xpath('//li[@class=\"fleft grey-text br2 placeHolderLi location\"]')\n",
    "    company_tags= driver.find_elements_by_xpath('//a[@class=\"subTitle ellipsis fleft\"]')\n",
    "    exp_tags= driver.find_elements_by_xpath('//li[@class=\"fleft grey-text br2 placeHolderLi experience\"]/span')\n",
    "\n",
    "    title=[]\n",
    "    location=[]\n",
    "    company=[]\n",
    "    exp=[]\n",
    "    for i in title_tags:\n",
    "        title.append(i.text)\n",
    "    for i in location_tags:\n",
    "        location.append(i.text)\n",
    "    for i in company_tags:\n",
    "        company.append(i.text)\n",
    "    for i in exp_tags:\n",
    "        exp.append(i.text)\n",
    "    \n",
    "    \n",
    "    DataAnalyst=pd.DataFrame({'Job Title':title[0:10],'Company':company[0:10],'Location':location[0:10],'Experience':exp[0:10]})\n",
    "    DataAnalyst.index +=1\n",
    "    \n",
    "    return DataAnalyst"
   ]
  },
  {
   "cell_type": "code",
   "execution_count": 29,
   "id": "b41f8511",
   "metadata": {},
   "outputs": [
    {
     "data": {
      "text/html": [
       "<div>\n",
       "<style scoped>\n",
       "    .dataframe tbody tr th:only-of-type {\n",
       "        vertical-align: middle;\n",
       "    }\n",
       "\n",
       "    .dataframe tbody tr th {\n",
       "        vertical-align: top;\n",
       "    }\n",
       "\n",
       "    .dataframe thead th {\n",
       "        text-align: right;\n",
       "    }\n",
       "</style>\n",
       "<table border=\"1\" class=\"dataframe\">\n",
       "  <thead>\n",
       "    <tr style=\"text-align: right;\">\n",
       "      <th></th>\n",
       "      <th>Job Title</th>\n",
       "      <th>Company</th>\n",
       "      <th>Location</th>\n",
       "      <th>Experience</th>\n",
       "    </tr>\n",
       "  </thead>\n",
       "  <tbody>\n",
       "  </tbody>\n",
       "</table>\n",
       "</div>"
      ],
      "text/plain": [
       "Empty DataFrame\n",
       "Columns: [Job Title, Company, Location, Experience]\n",
       "Index: []"
      ]
     },
     "execution_count": 29,
     "metadata": {},
     "output_type": "execute_result"
    }
   ],
   "source": [
    "page('https://www.naukri.com/','Data Analyst','Banglore')"
   ]
  },
  {
   "cell_type": "code",
   "execution_count": null,
   "id": "7fad995d",
   "metadata": {},
   "outputs": [],
   "source": []
  },
  {
   "cell_type": "code",
   "execution_count": null,
   "id": "85a39f18",
   "metadata": {},
   "outputs": [],
   "source": []
  },
  {
   "cell_type": "code",
   "execution_count": null,
   "id": "f3b84af3",
   "metadata": {},
   "outputs": [],
   "source": []
  },
  {
   "cell_type": "code",
   "execution_count": null,
   "id": "66c5df6e",
   "metadata": {},
   "outputs": [],
   "source": []
  },
  {
   "cell_type": "code",
   "execution_count": null,
   "id": "689556bb",
   "metadata": {},
   "outputs": [],
   "source": []
  }
 ],
 "metadata": {
  "kernelspec": {
   "display_name": "Python 3 (ipykernel)",
   "language": "python",
   "name": "python3"
  },
  "language_info": {
   "codemirror_mode": {
    "name": "ipython",
    "version": 3
   },
   "file_extension": ".py",
   "mimetype": "text/x-python",
   "name": "python",
   "nbconvert_exporter": "python",
   "pygments_lexer": "ipython3",
   "version": "3.9.7"
  }
 },
 "nbformat": 4,
 "nbformat_minor": 5
}
