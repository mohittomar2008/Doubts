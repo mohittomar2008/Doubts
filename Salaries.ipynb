{
 "cells": [
  {
   "cell_type": "code",
   "execution_count": 218,
   "id": "1cdb83a1",
   "metadata": {},
   "outputs": [],
   "source": [
    "# Importing required libraries\n",
    "import pandas as pd\n",
    "import numpy as np\n",
    "import seaborn as sns\n",
    "import matplotlib.pyplot as plt\n",
    "%matplotlib inline\n",
    "\n",
    "import warnings\n",
    "warnings.filterwarnings('ignore')"
   ]
  },
  {
   "cell_type": "code",
   "execution_count": 219,
   "id": "2d5263d4",
   "metadata": {},
   "outputs": [],
   "source": [
    "df= pd.read_csv('Salaries.csv')"
   ]
  },
  {
   "cell_type": "code",
   "execution_count": 220,
   "id": "f4e7541b",
   "metadata": {},
   "outputs": [
    {
     "data": {
      "text/html": [
       "<div>\n",
       "<style scoped>\n",
       "    .dataframe tbody tr th:only-of-type {\n",
       "        vertical-align: middle;\n",
       "    }\n",
       "\n",
       "    .dataframe tbody tr th {\n",
       "        vertical-align: top;\n",
       "    }\n",
       "\n",
       "    .dataframe thead th {\n",
       "        text-align: right;\n",
       "    }\n",
       "</style>\n",
       "<table border=\"1\" class=\"dataframe\">\n",
       "  <thead>\n",
       "    <tr style=\"text-align: right;\">\n",
       "      <th></th>\n",
       "      <th>rank</th>\n",
       "      <th>discipline</th>\n",
       "      <th>yrs.since.phd</th>\n",
       "      <th>yrs.service</th>\n",
       "      <th>sex</th>\n",
       "      <th>salary</th>\n",
       "    </tr>\n",
       "  </thead>\n",
       "  <tbody>\n",
       "    <tr>\n",
       "      <th>0</th>\n",
       "      <td>Prof</td>\n",
       "      <td>B</td>\n",
       "      <td>19</td>\n",
       "      <td>18</td>\n",
       "      <td>Male</td>\n",
       "      <td>139750</td>\n",
       "    </tr>\n",
       "    <tr>\n",
       "      <th>1</th>\n",
       "      <td>Prof</td>\n",
       "      <td>B</td>\n",
       "      <td>20</td>\n",
       "      <td>16</td>\n",
       "      <td>Male</td>\n",
       "      <td>173200</td>\n",
       "    </tr>\n",
       "    <tr>\n",
       "      <th>2</th>\n",
       "      <td>AsstProf</td>\n",
       "      <td>B</td>\n",
       "      <td>4</td>\n",
       "      <td>3</td>\n",
       "      <td>Male</td>\n",
       "      <td>79750</td>\n",
       "    </tr>\n",
       "    <tr>\n",
       "      <th>3</th>\n",
       "      <td>Prof</td>\n",
       "      <td>B</td>\n",
       "      <td>45</td>\n",
       "      <td>39</td>\n",
       "      <td>Male</td>\n",
       "      <td>115000</td>\n",
       "    </tr>\n",
       "    <tr>\n",
       "      <th>4</th>\n",
       "      <td>Prof</td>\n",
       "      <td>B</td>\n",
       "      <td>40</td>\n",
       "      <td>41</td>\n",
       "      <td>Male</td>\n",
       "      <td>141500</td>\n",
       "    </tr>\n",
       "  </tbody>\n",
       "</table>\n",
       "</div>"
      ],
      "text/plain": [
       "       rank discipline  yrs.since.phd  yrs.service   sex  salary\n",
       "0      Prof          B             19           18  Male  139750\n",
       "1      Prof          B             20           16  Male  173200\n",
       "2  AsstProf          B              4            3  Male   79750\n",
       "3      Prof          B             45           39  Male  115000\n",
       "4      Prof          B             40           41  Male  141500"
      ]
     },
     "execution_count": 220,
     "metadata": {},
     "output_type": "execute_result"
    }
   ],
   "source": [
    "df.head()"
   ]
  },
  {
   "cell_type": "code",
   "execution_count": 221,
   "id": "85865acc",
   "metadata": {},
   "outputs": [
    {
     "name": "stdout",
     "output_type": "stream",
     "text": [
      "<class 'pandas.core.frame.DataFrame'>\n",
      "RangeIndex: 397 entries, 0 to 396\n",
      "Data columns (total 6 columns):\n",
      " #   Column         Non-Null Count  Dtype \n",
      "---  ------         --------------  ----- \n",
      " 0   rank           397 non-null    object\n",
      " 1   discipline     397 non-null    object\n",
      " 2   yrs.since.phd  397 non-null    int64 \n",
      " 3   yrs.service    397 non-null    int64 \n",
      " 4   sex            397 non-null    object\n",
      " 5   salary         397 non-null    int64 \n",
      "dtypes: int64(3), object(3)\n",
      "memory usage: 18.7+ KB\n"
     ]
    }
   ],
   "source": [
    "df.info()"
   ]
  },
  {
   "cell_type": "raw",
   "id": "4f7883be",
   "metadata": {},
   "source": [
    "# Conclusion:  We dnt have any null values in any column"
   ]
  },
  {
   "cell_type": "code",
   "execution_count": 222,
   "id": "b610e703",
   "metadata": {},
   "outputs": [
    {
     "data": {
      "text/plain": [
       "array([19, 20,  4, 45, 40,  6, 30, 21, 18, 12,  7,  1,  2, 38, 37, 39, 31,\n",
       "       36, 34, 24, 13, 35,  5, 11, 22, 41,  9, 23, 25, 28, 16, 14, 10,  8,\n",
       "        3, 33, 17, 29, 26, 43, 15, 42, 32, 54, 56, 27, 48, 46, 47, 52, 51,\n",
       "       49, 44], dtype=int64)"
      ]
     },
     "execution_count": 222,
     "metadata": {},
     "output_type": "execute_result"
    }
   ],
   "source": [
    "\n",
    "df['yrs.since.phd'].unique()"
   ]
  },
  {
   "cell_type": "code",
   "execution_count": 223,
   "id": "1bdef267",
   "metadata": {},
   "outputs": [
    {
     "data": {
      "text/plain": [
       "array(['Prof', 'AsstProf', 'AssocProf'], dtype=object)"
      ]
     },
     "execution_count": 223,
     "metadata": {},
     "output_type": "execute_result"
    }
   ],
   "source": [
    "df['rank'].unique()   # we will encode this  like  Prof:1, AsstProf: 3, AssocProf: 2"
   ]
  },
  {
   "cell_type": "code",
   "execution_count": 224,
   "id": "ed1b8ef4",
   "metadata": {},
   "outputs": [
    {
     "data": {
      "text/plain": [
       "array(['B', 'A'], dtype=object)"
      ]
     },
     "execution_count": 224,
     "metadata": {},
     "output_type": "execute_result"
    }
   ],
   "source": [
    "df['discipline'].unique()  # seems A is good discipline professor"
   ]
  },
  {
   "cell_type": "code",
   "execution_count": 225,
   "id": "abd999cd",
   "metadata": {},
   "outputs": [
    {
     "data": {
      "text/plain": [
       "array(['Male', 'Female'], dtype=object)"
      ]
     },
     "execution_count": 225,
     "metadata": {},
     "output_type": "execute_result"
    }
   ],
   "source": [
    "df['sex'].unique()"
   ]
  },
  {
   "cell_type": "markdown",
   "id": "f2f8ad87",
   "metadata": {},
   "source": [
    "# Null Values"
   ]
  },
  {
   "cell_type": "code",
   "execution_count": 226,
   "id": "fe73b4b3",
   "metadata": {},
   "outputs": [
    {
     "data": {
      "text/plain": [
       "rank             0\n",
       "discipline       0\n",
       "yrs.since.phd    0\n",
       "yrs.service      0\n",
       "sex              0\n",
       "salary           0\n",
       "dtype: int64"
      ]
     },
     "execution_count": 226,
     "metadata": {},
     "output_type": "execute_result"
    }
   ],
   "source": [
    "df.isnull().sum()   # No null values"
   ]
  },
  {
   "cell_type": "code",
   "execution_count": 227,
   "id": "56cffff0",
   "metadata": {},
   "outputs": [
    {
     "data": {
      "text/plain": [
       "<AxesSubplot:>"
      ]
     },
     "execution_count": 227,
     "metadata": {},
     "output_type": "execute_result"
    },
    {
     "data": {
      "image/png": "[encoded data removed]",
      "text/plain": [
       "<Figure size 432x288 with 2 Axes>"
      ]
     },
     "metadata": {
      "needs_background": "light"
     },
     "output_type": "display_data"
    }
   ],
   "source": [
    "sns.heatmap(df.isnull())"
   ]
  },
  {
   "cell_type": "markdown",
   "id": "bc1cf637",
   "metadata": {},
   "source": [
    "# Univariate Analysis()"
   ]
  },
  {
   "cell_type": "code",
   "execution_count": 228,
   "id": "e02906e1",
   "metadata": {},
   "outputs": [
    {
     "data": {
      "text/plain": [
       "<AxesSubplot:xlabel='rank', ylabel='salary'>"
      ]
     },
     "execution_count": 228,
     "metadata": {},
     "output_type": "execute_result"
    },
    {
     "data": {
      "image/png": "[encoded data removed]",
      "text/plain": [
       "<Figure size 432x288 with 1 Axes>"
      ]
     },
     "metadata": {
      "needs_background": "light"
     },
     "output_type": "display_data"
    }
   ],
   "source": [
    "sns.scatterplot(x='rank',y='salary',data=df)"
   ]
  },
  {
   "cell_type": "markdown",
   "id": "c9e93655",
   "metadata": {},
   "source": [
    "Conclusion:  Prof has high salary, then Associate prof and then asstprof"
   ]
  },
  {
   "cell_type": "code",
   "execution_count": 229,
   "id": "3ec48c24",
   "metadata": {},
   "outputs": [
    {
     "data": {
      "text/plain": [
       "<AxesSubplot:xlabel='discipline', ylabel='count'>"
      ]
     },
     "execution_count": 229,
     "metadata": {},
     "output_type": "execute_result"
    },
    {
     "data": {
      "image/png": "[encoded data removed]",
      "text/plain": [
       "<Figure size 432x288 with 1 Axes>"
      ]
     },
     "metadata": {
      "needs_background": "light"
     },
     "output_type": "display_data"
    }
   ],
   "source": [
    "sns.countplot(x='discipline', data=df) # More professiors have discipline B"
   ]
  },
  {
   "cell_type": "code",
   "execution_count": 230,
   "id": "516bf24c",
   "metadata": {},
   "outputs": [
    {
     "data": {
      "text/plain": [
       "<AxesSubplot:xlabel='rank', ylabel='count'>"
      ]
     },
     "execution_count": 230,
     "metadata": {},
     "output_type": "execute_result"
    },
    {
     "data": {
      "image/png": "[encoded data removed]",
      "text/plain": [
       "<Figure size 432x288 with 1 Axes>"
      ]
     },
     "metadata": {
      "needs_background": "light"
     },
     "output_type": "display_data"
    }
   ],
   "source": [
    "sns.countplot('rank', data=df)"
   ]
  },
  {
   "cell_type": "code",
   "execution_count": 231,
   "id": "def32251",
   "metadata": {},
   "outputs": [
    {
     "data": {
      "text/plain": [
       "Prof         266\n",
       "AsstProf      67\n",
       "AssocProf     64\n",
       "Name: rank, dtype: int64"
      ]
     },
     "execution_count": 231,
     "metadata": {},
     "output_type": "execute_result"
    }
   ],
   "source": [
    "df['rank'].value_counts()  # Prof count is 266, associate prof is 64  and associate prof is 67"
   ]
  },
  {
   "cell_type": "code",
   "execution_count": 232,
   "id": "5862f7c6",
   "metadata": {},
   "outputs": [
    {
     "data": {
      "text/plain": [
       "<AxesSubplot:xlabel='rank', ylabel='count'>"
      ]
     },
     "execution_count": 232,
     "metadata": {},
     "output_type": "execute_result"
    },
    {
     "data": {
      "image/png": "[encoded data removed]",
      "text/plain": [
       "<Figure size 432x288 with 1 Axes>"
      ]
     },
     "metadata": {
      "needs_background": "light"
     },
     "output_type": "display_data"
    }
   ],
   "source": [
    "sns.countplot(x='rank',hue='discipline', data=df)"
   ]
  },
  {
   "cell_type": "code",
   "execution_count": 233,
   "id": "f6814cf1",
   "metadata": {},
   "outputs": [],
   "source": [
    "# Mostly prof, assoprof, asstprof have discipline B"
   ]
  },
  {
   "cell_type": "code",
   "execution_count": null,
   "id": "f0edd398",
   "metadata": {},
   "outputs": [],
   "source": []
  },
  {
   "cell_type": "code",
   "execution_count": 234,
   "id": "6decb341",
   "metadata": {},
   "outputs": [
    {
     "data": {
      "text/plain": [
       "<AxesSubplot:xlabel='rank', ylabel='yrs.service'>"
      ]
     },
     "execution_count": 234,
     "metadata": {},
     "output_type": "execute_result"
    },
    {
     "data": {
      "image/png": "[encoded data removed]",
      "text/plain": [
       "<Figure size 432x288 with 1 Axes>"
      ]
     },
     "metadata": {
      "needs_background": "light"
     },
     "output_type": "display_data"
    }
   ],
   "source": [
    "sns.scatterplot(x='rank',y='yrs.service', data=df)"
   ]
  },
  {
   "cell_type": "raw",
   "id": "cf6b4d4d",
   "metadata": {},
   "source": [
    "Conclusion:  \n",
    "    1. Professor have large no of experience, then assocProf and then Asst prof\n",
    "    "
   ]
  },
  {
   "cell_type": "code",
   "execution_count": 235,
   "id": "621dc5dd",
   "metadata": {},
   "outputs": [
    {
     "data": {
      "text/plain": [
       "<AxesSubplot:xlabel='sex', ylabel='count'>"
      ]
     },
     "execution_count": 235,
     "metadata": {},
     "output_type": "execute_result"
    },
    {
     "data": {
      "image/png": "[encoded data removed]",
      "text/plain": [
       "<Figure size 432x288 with 1 Axes>"
      ]
     },
     "metadata": {
      "needs_background": "light"
     },
     "output_type": "display_data"
    }
   ],
   "source": [
    "# Male vs Female in rank\n",
    "sns.countplot(x='sex',data=df)  # We have majority of Male Proff"
   ]
  },
  {
   "cell_type": "code",
   "execution_count": 236,
   "id": "da37d707",
   "metadata": {},
   "outputs": [],
   "source": [
    "gender=df['sex'].value_counts().index"
   ]
  },
  {
   "cell_type": "code",
   "execution_count": 237,
   "id": "d89d9244",
   "metadata": {},
   "outputs": [
    {
     "data": {
      "text/plain": [
       "Index(['Male', 'Female'], dtype='object')"
      ]
     },
     "execution_count": 237,
     "metadata": {},
     "output_type": "execute_result"
    }
   ],
   "source": [
    "gender"
   ]
  },
  {
   "cell_type": "code",
   "execution_count": 238,
   "id": "98eb3ef8",
   "metadata": {},
   "outputs": [
    {
     "data": {
      "text/plain": [
       "array([358,  39], dtype=int64)"
      ]
     },
     "execution_count": 238,
     "metadata": {},
     "output_type": "execute_result"
    }
   ],
   "source": [
    "gender_value= df['sex'].value_counts().values\n",
    "gender_value"
   ]
  },
  {
   "cell_type": "code",
   "execution_count": 239,
   "id": "90805027",
   "metadata": {},
   "outputs": [
    {
     "data": {
      "text/plain": [
       "([<matplotlib.patches.Wedge at 0x2203999e070>,\n",
       "  <matplotlib.patches.Wedge at 0x220399ac790>],\n",
       " [Text(-1.0480290059707078, 0.3341185457948273, 'Male'),\n",
       "  Text(1.0480289825088784, -0.3341186193874942, 'Female')],\n",
       " [Text(-0.5716521850749315, 0.18224647952445122, '90.18%'),\n",
       "  Text(0.57165217227757, -0.1822465196659059, '9.82%')])"
      ]
     },
     "execution_count": 239,
     "metadata": {},
     "output_type": "execute_result"
    },
    {
     "data": {
      "image/png": "[encoded data removed]",
      "text/plain": [
       "<Figure size 432x288 with 1 Axes>"
      ]
     },
     "metadata": {},
     "output_type": "display_data"
    }
   ],
   "source": [
    "plt.pie(gender_value, labels=gender, autopct=\"%1.2f%%\")"
   ]
  },
  {
   "cell_type": "code",
   "execution_count": 240,
   "id": "e18c277a",
   "metadata": {},
   "outputs": [],
   "source": [
    "# Conslusion:  90% are Male professor and 10% are female professor"
   ]
  },
  {
   "cell_type": "code",
   "execution_count": null,
   "id": "bced0447",
   "metadata": {},
   "outputs": [],
   "source": []
  },
  {
   "cell_type": "code",
   "execution_count": 241,
   "id": "8bda07b4",
   "metadata": {},
   "outputs": [],
   "source": [
    "rank=df['rank'].value_counts().index"
   ]
  },
  {
   "cell_type": "code",
   "execution_count": 242,
   "id": "82514f5d",
   "metadata": {},
   "outputs": [],
   "source": [
    "rankvalue=df['rank'].value_counts().values"
   ]
  },
  {
   "cell_type": "code",
   "execution_count": 243,
   "id": "70fffb1f",
   "metadata": {},
   "outputs": [
    {
     "data": {
      "text/plain": [
       "([<matplotlib.patches.Wedge at 0x220399ef310>,\n",
       "  <matplotlib.patches.Wedge at 0x220399efa90>,\n",
       "  <matplotlib.patches.Wedge at 0x220399fd1f0>],\n",
       " [Text(-0.5600204235664406, 0.9467719499375045, 'Prof'),\n",
       "  Text(0.030462284581484863, -1.0995781232900539, 'AsstProf'),\n",
       "  Text(0.9619174276875219, -0.5335867898580523, 'AssocProf')],\n",
       " [Text(-0.30546568558169485, 0.5164210636022751, '67.00%'),\n",
       "  Text(0.01661579158990083, -0.5997698854309383, '16.88%'),\n",
       "  Text(0.5246822332841028, -0.291047339922574, '16.12%')])"
      ]
     },
     "execution_count": 243,
     "metadata": {},
     "output_type": "execute_result"
    },
    {
     "data": {
      "image/png": "[encoded data removed]",
      "text/plain": [
       "<Figure size 432x288 with 1 Axes>"
      ]
     },
     "metadata": {},
     "output_type": "display_data"
    }
   ],
   "source": [
    "plt.pie(rankvalue, labels=rank, autopct=\"%1.2f%%\")"
   ]
  },
  {
   "cell_type": "code",
   "execution_count": 244,
   "id": "3cc2f65c",
   "metadata": {},
   "outputs": [],
   "source": [
    "# Conclusion:  67% are professor, 16.88 are asst professor while 16.12% are associate professor"
   ]
  },
  {
   "cell_type": "code",
   "execution_count": 245,
   "id": "a77143fb",
   "metadata": {},
   "outputs": [
    {
     "data": {
      "text/plain": [
       "<AxesSubplot:xlabel='rank', ylabel='count'>"
      ]
     },
     "execution_count": 245,
     "metadata": {},
     "output_type": "execute_result"
    },
    {
     "data": {
      "image/png": "[encoded data removed]",
      "text/plain": [
       "<Figure size 432x288 with 1 Axes>"
      ]
     },
     "metadata": {
      "needs_background": "light"
     },
     "output_type": "display_data"
    }
   ],
   "source": [
    "sns.countplot(x='rank',hue='sex', data=df)"
   ]
  },
  {
   "cell_type": "code",
   "execution_count": 246,
   "id": "98e79b19",
   "metadata": {},
   "outputs": [
    {
     "data": {
      "text/plain": [
       "<AxesSubplot:xlabel='rank', ylabel='salary'>"
      ]
     },
     "execution_count": 246,
     "metadata": {},
     "output_type": "execute_result"
    },
    {
     "data": {
      "image/png": "[encoded data removed]",
      "text/plain": [
       "<Figure size 432x288 with 1 Axes>"
      ]
     },
     "metadata": {
      "needs_background": "light"
     },
     "output_type": "display_data"
    }
   ],
   "source": [
    "sns.histplot(x='rank',y='salary',hue='sex', data=df)"
   ]
  },
  {
   "cell_type": "code",
   "execution_count": 247,
   "id": "beb5267f",
   "metadata": {},
   "outputs": [
    {
     "data": {
      "text/plain": [
       "rank       sex   \n",
       "AssocProf  Female     10\n",
       "           Male       54\n",
       "AsstProf   Female     11\n",
       "           Male       56\n",
       "Prof       Female     18\n",
       "           Male      248\n",
       "Name: sex, dtype: int64"
      ]
     },
     "execution_count": 247,
     "metadata": {},
     "output_type": "execute_result"
    }
   ],
   "source": [
    "df.groupby(['rank','sex'])['sex'].count()"
   ]
  },
  {
   "cell_type": "code",
   "execution_count": 248,
   "id": "a6b961b4",
   "metadata": {},
   "outputs": [],
   "source": [
    "# Observation: Although femals are only 10% in which more Female are Professor"
   ]
  },
  {
   "cell_type": "code",
   "execution_count": 249,
   "id": "879eaaba",
   "metadata": {},
   "outputs": [
    {
     "data": {
      "text/html": [
       "<div>\n",
       "<style scoped>\n",
       "    .dataframe tbody tr th:only-of-type {\n",
       "        vertical-align: middle;\n",
       "    }\n",
       "\n",
       "    .dataframe tbody tr th {\n",
       "        vertical-align: top;\n",
       "    }\n",
       "\n",
       "    .dataframe thead th {\n",
       "        text-align: right;\n",
       "    }\n",
       "</style>\n",
       "<table border=\"1\" class=\"dataframe\">\n",
       "  <thead>\n",
       "    <tr style=\"text-align: right;\">\n",
       "      <th></th>\n",
       "      <th>rank</th>\n",
       "      <th>discipline</th>\n",
       "      <th>yrs.since.phd</th>\n",
       "      <th>yrs.service</th>\n",
       "      <th>sex</th>\n",
       "      <th>salary</th>\n",
       "    </tr>\n",
       "  </thead>\n",
       "  <tbody>\n",
       "    <tr>\n",
       "      <th>0</th>\n",
       "      <td>Prof</td>\n",
       "      <td>B</td>\n",
       "      <td>19</td>\n",
       "      <td>18</td>\n",
       "      <td>Male</td>\n",
       "      <td>139750</td>\n",
       "    </tr>\n",
       "    <tr>\n",
       "      <th>1</th>\n",
       "      <td>Prof</td>\n",
       "      <td>B</td>\n",
       "      <td>20</td>\n",
       "      <td>16</td>\n",
       "      <td>Male</td>\n",
       "      <td>173200</td>\n",
       "    </tr>\n",
       "    <tr>\n",
       "      <th>2</th>\n",
       "      <td>AsstProf</td>\n",
       "      <td>B</td>\n",
       "      <td>4</td>\n",
       "      <td>3</td>\n",
       "      <td>Male</td>\n",
       "      <td>79750</td>\n",
       "    </tr>\n",
       "    <tr>\n",
       "      <th>3</th>\n",
       "      <td>Prof</td>\n",
       "      <td>B</td>\n",
       "      <td>45</td>\n",
       "      <td>39</td>\n",
       "      <td>Male</td>\n",
       "      <td>115000</td>\n",
       "    </tr>\n",
       "    <tr>\n",
       "      <th>4</th>\n",
       "      <td>Prof</td>\n",
       "      <td>B</td>\n",
       "      <td>40</td>\n",
       "      <td>41</td>\n",
       "      <td>Male</td>\n",
       "      <td>141500</td>\n",
       "    </tr>\n",
       "  </tbody>\n",
       "</table>\n",
       "</div>"
      ],
      "text/plain": [
       "       rank discipline  yrs.since.phd  yrs.service   sex  salary\n",
       "0      Prof          B             19           18  Male  139750\n",
       "1      Prof          B             20           16  Male  173200\n",
       "2  AsstProf          B              4            3  Male   79750\n",
       "3      Prof          B             45           39  Male  115000\n",
       "4      Prof          B             40           41  Male  141500"
      ]
     },
     "execution_count": 249,
     "metadata": {},
     "output_type": "execute_result"
    }
   ],
   "source": [
    "df.head()"
   ]
  },
  {
   "cell_type": "markdown",
   "id": "75d7bc0d",
   "metadata": {},
   "source": [
    "# Columns vs Salary"
   ]
  },
  {
   "cell_type": "code",
   "execution_count": 250,
   "id": "deb2fa74",
   "metadata": {},
   "outputs": [
    {
     "data": {
      "text/plain": [
       "rank\n",
       "AssocProf     93876.437500\n",
       "AsstProf      80775.985075\n",
       "Prof         126772.109023\n",
       "Name: salary, dtype: float64"
      ]
     },
     "execution_count": 250,
     "metadata": {},
     "output_type": "execute_result"
    }
   ],
   "source": [
    "#Mean salary of rankwise\n",
    "df.groupby('rank')['salary'].mean()"
   ]
  },
  {
   "cell_type": "code",
   "execution_count": 251,
   "id": "0ec5123c",
   "metadata": {},
   "outputs": [
    {
     "data": {
      "text/plain": [
       "<seaborn.axisgrid.PairGrid at 0x22039a0c250>"
      ]
     },
     "execution_count": 251,
     "metadata": {},
     "output_type": "execute_result"
    },
    {
     "data": {
      "image/png": "[encoded data removed]",
      "text/plain": [
       "<Figure size 540x540 with 12 Axes>"
      ]
     },
     "metadata": {
      "needs_background": "light"
     },
     "output_type": "display_data"
    }
   ],
   "source": [
    "sns.pairplot(df)"
   ]
  },
  {
   "cell_type": "code",
   "execution_count": null,
   "id": "dab522b0",
   "metadata": {},
   "outputs": [],
   "source": []
  },
  {
   "cell_type": "code",
   "execution_count": 252,
   "id": "a02777a2",
   "metadata": {},
   "outputs": [
    {
     "data": {
      "text/plain": [
       "<AxesSubplot:xlabel='yrs.since.phd', ylabel='Density'>"
      ]
     },
     "execution_count": 252,
     "metadata": {},
     "output_type": "execute_result"
    },
    {
     "data": {
      "image/png": "[encoded data removed]",
      "text/plain": [
       "<Figure size 432x288 with 1 Axes>"
      ]
     },
     "metadata": {
      "needs_background": "light"
     },
     "output_type": "display_data"
    }
   ],
   "source": [
    "sns.distplot(df['yrs.since.phd'])"
   ]
  },
  {
   "cell_type": "code",
   "execution_count": 253,
   "id": "cbeea660",
   "metadata": {},
   "outputs": [
    {
     "data": {
      "text/plain": [
       "<AxesSubplot:xlabel='yrs.service', ylabel='Density'>"
      ]
     },
     "execution_count": 253,
     "metadata": {},
     "output_type": "execute_result"
    },
    {
     "data": {
      "image/png": "[encoded data removed]",
      "text/plain": [
       "<Figure size 432x288 with 1 Axes>"
      ]
     },
     "metadata": {
      "needs_background": "light"
     },
     "output_type": "display_data"
    }
   ],
   "source": [
    "sns.distplot(df['yrs.service'])"
   ]
  },
  {
   "cell_type": "code",
   "execution_count": 254,
   "id": "3937ad9a",
   "metadata": {},
   "outputs": [
    {
     "data": {
      "text/plain": [
       "<AxesSubplot:xlabel='salary', ylabel='Density'>"
      ]
     },
     "execution_count": 254,
     "metadata": {},
     "output_type": "execute_result"
    },
    {
     "data": {
      "image/png": "[encoded data removed]",
      "text/plain": [
       "<Figure size 432x288 with 1 Axes>"
      ]
     },
     "metadata": {
      "needs_background": "light"
     },
     "output_type": "display_data"
    }
   ],
   "source": [
    "sns.distplot(df['salary'])"
   ]
  },
  {
   "cell_type": "code",
   "execution_count": 255,
   "id": "20e48a07",
   "metadata": {},
   "outputs": [],
   "source": [
    "# Skewness present in coulumns"
   ]
  },
  {
   "cell_type": "code",
   "execution_count": 256,
   "id": "74d6ba23",
   "metadata": {},
   "outputs": [
    {
     "data": {
      "text/html": [
       "<div>\n",
       "<style scoped>\n",
       "    .dataframe tbody tr th:only-of-type {\n",
       "        vertical-align: middle;\n",
       "    }\n",
       "\n",
       "    .dataframe tbody tr th {\n",
       "        vertical-align: top;\n",
       "    }\n",
       "\n",
       "    .dataframe thead th {\n",
       "        text-align: right;\n",
       "    }\n",
       "</style>\n",
       "<table border=\"1\" class=\"dataframe\">\n",
       "  <thead>\n",
       "    <tr style=\"text-align: right;\">\n",
       "      <th></th>\n",
       "      <th>yrs.since.phd</th>\n",
       "      <th>yrs.service</th>\n",
       "      <th>salary</th>\n",
       "    </tr>\n",
       "  </thead>\n",
       "  <tbody>\n",
       "    <tr>\n",
       "      <th>count</th>\n",
       "      <td>397.000000</td>\n",
       "      <td>397.000000</td>\n",
       "      <td>397.000000</td>\n",
       "    </tr>\n",
       "    <tr>\n",
       "      <th>mean</th>\n",
       "      <td>22.314861</td>\n",
       "      <td>17.614610</td>\n",
       "      <td>113706.458438</td>\n",
       "    </tr>\n",
       "    <tr>\n",
       "      <th>std</th>\n",
       "      <td>12.887003</td>\n",
       "      <td>13.006024</td>\n",
       "      <td>30289.038695</td>\n",
       "    </tr>\n",
       "    <tr>\n",
       "      <th>min</th>\n",
       "      <td>1.000000</td>\n",
       "      <td>0.000000</td>\n",
       "      <td>57800.000000</td>\n",
       "    </tr>\n",
       "    <tr>\n",
       "      <th>25%</th>\n",
       "      <td>12.000000</td>\n",
       "      <td>7.000000</td>\n",
       "      <td>91000.000000</td>\n",
       "    </tr>\n",
       "    <tr>\n",
       "      <th>50%</th>\n",
       "      <td>21.000000</td>\n",
       "      <td>16.000000</td>\n",
       "      <td>107300.000000</td>\n",
       "    </tr>\n",
       "    <tr>\n",
       "      <th>75%</th>\n",
       "      <td>32.000000</td>\n",
       "      <td>27.000000</td>\n",
       "      <td>134185.000000</td>\n",
       "    </tr>\n",
       "    <tr>\n",
       "      <th>max</th>\n",
       "      <td>56.000000</td>\n",
       "      <td>60.000000</td>\n",
       "      <td>231545.000000</td>\n",
       "    </tr>\n",
       "  </tbody>\n",
       "</table>\n",
       "</div>"
      ],
      "text/plain": [
       "       yrs.since.phd  yrs.service         salary\n",
       "count     397.000000   397.000000     397.000000\n",
       "mean       22.314861    17.614610  113706.458438\n",
       "std        12.887003    13.006024   30289.038695\n",
       "min         1.000000     0.000000   57800.000000\n",
       "25%        12.000000     7.000000   91000.000000\n",
       "50%        21.000000    16.000000  107300.000000\n",
       "75%        32.000000    27.000000  134185.000000\n",
       "max        56.000000    60.000000  231545.000000"
      ]
     },
     "execution_count": 256,
     "metadata": {},
     "output_type": "execute_result"
    }
   ],
   "source": [
    "df.describe()"
   ]
  },
  {
   "cell_type": "code",
   "execution_count": 257,
   "id": "750522f1",
   "metadata": {},
   "outputs": [
    {
     "data": {
      "text/html": [
       "<div>\n",
       "<style scoped>\n",
       "    .dataframe tbody tr th:only-of-type {\n",
       "        vertical-align: middle;\n",
       "    }\n",
       "\n",
       "    .dataframe tbody tr th {\n",
       "        vertical-align: top;\n",
       "    }\n",
       "\n",
       "    .dataframe thead th {\n",
       "        text-align: right;\n",
       "    }\n",
       "</style>\n",
       "<table border=\"1\" class=\"dataframe\">\n",
       "  <thead>\n",
       "    <tr style=\"text-align: right;\">\n",
       "      <th></th>\n",
       "      <th>yrs.since.phd</th>\n",
       "      <th>yrs.service</th>\n",
       "      <th>salary</th>\n",
       "    </tr>\n",
       "  </thead>\n",
       "  <tbody>\n",
       "    <tr>\n",
       "      <th>yrs.since.phd</th>\n",
       "      <td>1.000000</td>\n",
       "      <td>0.909649</td>\n",
       "      <td>0.419231</td>\n",
       "    </tr>\n",
       "    <tr>\n",
       "      <th>yrs.service</th>\n",
       "      <td>0.909649</td>\n",
       "      <td>1.000000</td>\n",
       "      <td>0.334745</td>\n",
       "    </tr>\n",
       "    <tr>\n",
       "      <th>salary</th>\n",
       "      <td>0.419231</td>\n",
       "      <td>0.334745</td>\n",
       "      <td>1.000000</td>\n",
       "    </tr>\n",
       "  </tbody>\n",
       "</table>\n",
       "</div>"
      ],
      "text/plain": [
       "               yrs.since.phd  yrs.service    salary\n",
       "yrs.since.phd       1.000000     0.909649  0.419231\n",
       "yrs.service         0.909649     1.000000  0.334745\n",
       "salary              0.419231     0.334745  1.000000"
      ]
     },
     "execution_count": 257,
     "metadata": {},
     "output_type": "execute_result"
    }
   ],
   "source": [
    "df.corr()"
   ]
  },
  {
   "cell_type": "code",
   "execution_count": 258,
   "id": "7d04ad56",
   "metadata": {},
   "outputs": [
    {
     "data": {
      "text/plain": [
       "<AxesSubplot:>"
      ]
     },
     "execution_count": 258,
     "metadata": {},
     "output_type": "execute_result"
    },
    {
     "data": {
      "image/png": "[encoded data removed]",
      "text/plain": [
       "<Figure size 432x288 with 2 Axes>"
      ]
     },
     "metadata": {
      "needs_background": "light"
     },
     "output_type": "display_data"
    }
   ],
   "source": [
    "sns.heatmap(df.corr(), annot=True, linecolor='white',linewidths=.25)"
   ]
  },
  {
   "cell_type": "raw",
   "id": "198bd244",
   "metadata": {},
   "source": [
    "Conclusion:\n",
    "    1. yrs.since.phd   and  yrs.service are moreover providing the same knowledge like yrs spent after phd. and \n",
    "       Both are highly correlated to each other. so i can drop yrs.services which is less corr to target than other feature\n",
    "    "
   ]
  },
  {
   "cell_type": "code",
   "execution_count": 259,
   "id": "4abae629",
   "metadata": {},
   "outputs": [],
   "source": [
    "df.drop('yrs.service',axis=1, inplace=True)"
   ]
  },
  {
   "cell_type": "code",
   "execution_count": 260,
   "id": "fd75be7f",
   "metadata": {},
   "outputs": [
    {
     "data": {
      "text/html": [
       "<div>\n",
       "<style scoped>\n",
       "    .dataframe tbody tr th:only-of-type {\n",
       "        vertical-align: middle;\n",
       "    }\n",
       "\n",
       "    .dataframe tbody tr th {\n",
       "        vertical-align: top;\n",
       "    }\n",
       "\n",
       "    .dataframe thead th {\n",
       "        text-align: right;\n",
       "    }\n",
       "</style>\n",
       "<table border=\"1\" class=\"dataframe\">\n",
       "  <thead>\n",
       "    <tr style=\"text-align: right;\">\n",
       "      <th></th>\n",
       "      <th>rank</th>\n",
       "      <th>discipline</th>\n",
       "      <th>yrs.since.phd</th>\n",
       "      <th>sex</th>\n",
       "      <th>salary</th>\n",
       "    </tr>\n",
       "  </thead>\n",
       "  <tbody>\n",
       "    <tr>\n",
       "      <th>0</th>\n",
       "      <td>Prof</td>\n",
       "      <td>B</td>\n",
       "      <td>19</td>\n",
       "      <td>Male</td>\n",
       "      <td>139750</td>\n",
       "    </tr>\n",
       "    <tr>\n",
       "      <th>1</th>\n",
       "      <td>Prof</td>\n",
       "      <td>B</td>\n",
       "      <td>20</td>\n",
       "      <td>Male</td>\n",
       "      <td>173200</td>\n",
       "    </tr>\n",
       "    <tr>\n",
       "      <th>2</th>\n",
       "      <td>AsstProf</td>\n",
       "      <td>B</td>\n",
       "      <td>4</td>\n",
       "      <td>Male</td>\n",
       "      <td>79750</td>\n",
       "    </tr>\n",
       "    <tr>\n",
       "      <th>3</th>\n",
       "      <td>Prof</td>\n",
       "      <td>B</td>\n",
       "      <td>45</td>\n",
       "      <td>Male</td>\n",
       "      <td>115000</td>\n",
       "    </tr>\n",
       "    <tr>\n",
       "      <th>4</th>\n",
       "      <td>Prof</td>\n",
       "      <td>B</td>\n",
       "      <td>40</td>\n",
       "      <td>Male</td>\n",
       "      <td>141500</td>\n",
       "    </tr>\n",
       "  </tbody>\n",
       "</table>\n",
       "</div>"
      ],
      "text/plain": [
       "       rank discipline  yrs.since.phd   sex  salary\n",
       "0      Prof          B             19  Male  139750\n",
       "1      Prof          B             20  Male  173200\n",
       "2  AsstProf          B              4  Male   79750\n",
       "3      Prof          B             45  Male  115000\n",
       "4      Prof          B             40  Male  141500"
      ]
     },
     "execution_count": 260,
     "metadata": {},
     "output_type": "execute_result"
    }
   ],
   "source": [
    "df.head()"
   ]
  },
  {
   "cell_type": "code",
   "execution_count": 294,
   "id": "cdf76c35",
   "metadata": {},
   "outputs": [
    {
     "data": {
      "text/html": [
       "<div>\n",
       "<style scoped>\n",
       "    .dataframe tbody tr th:only-of-type {\n",
       "        vertical-align: middle;\n",
       "    }\n",
       "\n",
       "    .dataframe tbody tr th {\n",
       "        vertical-align: top;\n",
       "    }\n",
       "\n",
       "    .dataframe thead th {\n",
       "        text-align: right;\n",
       "    }\n",
       "</style>\n",
       "<table border=\"1\" class=\"dataframe\">\n",
       "  <thead>\n",
       "    <tr style=\"text-align: right;\">\n",
       "      <th></th>\n",
       "      <th>rank</th>\n",
       "      <th>discipline</th>\n",
       "      <th>sex</th>\n",
       "    </tr>\n",
       "  </thead>\n",
       "  <tbody>\n",
       "    <tr>\n",
       "      <th>0</th>\n",
       "      <td>Prof</td>\n",
       "      <td>B</td>\n",
       "      <td>Male</td>\n",
       "    </tr>\n",
       "    <tr>\n",
       "      <th>1</th>\n",
       "      <td>Prof</td>\n",
       "      <td>B</td>\n",
       "      <td>Male</td>\n",
       "    </tr>\n",
       "    <tr>\n",
       "      <th>2</th>\n",
       "      <td>AsstProf</td>\n",
       "      <td>B</td>\n",
       "      <td>Male</td>\n",
       "    </tr>\n",
       "    <tr>\n",
       "      <th>3</th>\n",
       "      <td>Prof</td>\n",
       "      <td>B</td>\n",
       "      <td>Male</td>\n",
       "    </tr>\n",
       "    <tr>\n",
       "      <th>4</th>\n",
       "      <td>Prof</td>\n",
       "      <td>B</td>\n",
       "      <td>Male</td>\n",
       "    </tr>\n",
       "    <tr>\n",
       "      <th>...</th>\n",
       "      <td>...</td>\n",
       "      <td>...</td>\n",
       "      <td>...</td>\n",
       "    </tr>\n",
       "    <tr>\n",
       "      <th>392</th>\n",
       "      <td>Prof</td>\n",
       "      <td>A</td>\n",
       "      <td>Male</td>\n",
       "    </tr>\n",
       "    <tr>\n",
       "      <th>393</th>\n",
       "      <td>Prof</td>\n",
       "      <td>A</td>\n",
       "      <td>Male</td>\n",
       "    </tr>\n",
       "    <tr>\n",
       "      <th>394</th>\n",
       "      <td>Prof</td>\n",
       "      <td>A</td>\n",
       "      <td>Male</td>\n",
       "    </tr>\n",
       "    <tr>\n",
       "      <th>395</th>\n",
       "      <td>Prof</td>\n",
       "      <td>A</td>\n",
       "      <td>Male</td>\n",
       "    </tr>\n",
       "    <tr>\n",
       "      <th>396</th>\n",
       "      <td>AsstProf</td>\n",
       "      <td>A</td>\n",
       "      <td>Male</td>\n",
       "    </tr>\n",
       "  </tbody>\n",
       "</table>\n",
       "<p>397 rows × 3 columns</p>\n",
       "</div>"
      ],
      "text/plain": [
       "         rank discipline   sex\n",
       "0        Prof          B  Male\n",
       "1        Prof          B  Male\n",
       "2    AsstProf          B  Male\n",
       "3        Prof          B  Male\n",
       "4        Prof          B  Male\n",
       "..        ...        ...   ...\n",
       "392      Prof          A  Male\n",
       "393      Prof          A  Male\n",
       "394      Prof          A  Male\n",
       "395      Prof          A  Male\n",
       "396  AsstProf          A  Male\n",
       "\n",
       "[397 rows x 3 columns]"
      ]
     },
     "execution_count": 294,
     "metadata": {},
     "output_type": "execute_result"
    }
   ],
   "source": [
    "df_cat=df[[column for column in df.columns if df[column].dtypes=='O']]\n",
    "df_cat"
   ]
  },
  {
   "cell_type": "code",
   "execution_count": 262,
   "id": "54d8500b",
   "metadata": {},
   "outputs": [
    {
     "data": {
      "text/html": [
       "<div>\n",
       "<style scoped>\n",
       "    .dataframe tbody tr th:only-of-type {\n",
       "        vertical-align: middle;\n",
       "    }\n",
       "\n",
       "    .dataframe tbody tr th {\n",
       "        vertical-align: top;\n",
       "    }\n",
       "\n",
       "    .dataframe thead th {\n",
       "        text-align: right;\n",
       "    }\n",
       "</style>\n",
       "<table border=\"1\" class=\"dataframe\">\n",
       "  <thead>\n",
       "    <tr style=\"text-align: right;\">\n",
       "      <th></th>\n",
       "      <th>yrs.since.phd</th>\n",
       "      <th>salary</th>\n",
       "    </tr>\n",
       "  </thead>\n",
       "  <tbody>\n",
       "    <tr>\n",
       "      <th>0</th>\n",
       "      <td>19</td>\n",
       "      <td>139750</td>\n",
       "    </tr>\n",
       "    <tr>\n",
       "      <th>1</th>\n",
       "      <td>20</td>\n",
       "      <td>173200</td>\n",
       "    </tr>\n",
       "    <tr>\n",
       "      <th>2</th>\n",
       "      <td>4</td>\n",
       "      <td>79750</td>\n",
       "    </tr>\n",
       "    <tr>\n",
       "      <th>3</th>\n",
       "      <td>45</td>\n",
       "      <td>115000</td>\n",
       "    </tr>\n",
       "    <tr>\n",
       "      <th>4</th>\n",
       "      <td>40</td>\n",
       "      <td>141500</td>\n",
       "    </tr>\n",
       "    <tr>\n",
       "      <th>...</th>\n",
       "      <td>...</td>\n",
       "      <td>...</td>\n",
       "    </tr>\n",
       "    <tr>\n",
       "      <th>392</th>\n",
       "      <td>33</td>\n",
       "      <td>103106</td>\n",
       "    </tr>\n",
       "    <tr>\n",
       "      <th>393</th>\n",
       "      <td>31</td>\n",
       "      <td>150564</td>\n",
       "    </tr>\n",
       "    <tr>\n",
       "      <th>394</th>\n",
       "      <td>42</td>\n",
       "      <td>101738</td>\n",
       "    </tr>\n",
       "    <tr>\n",
       "      <th>395</th>\n",
       "      <td>25</td>\n",
       "      <td>95329</td>\n",
       "    </tr>\n",
       "    <tr>\n",
       "      <th>396</th>\n",
       "      <td>8</td>\n",
       "      <td>81035</td>\n",
       "    </tr>\n",
       "  </tbody>\n",
       "</table>\n",
       "<p>397 rows × 2 columns</p>\n",
       "</div>"
      ],
      "text/plain": [
       "     yrs.since.phd  salary\n",
       "0               19  139750\n",
       "1               20  173200\n",
       "2                4   79750\n",
       "3               45  115000\n",
       "4               40  141500\n",
       "..             ...     ...\n",
       "392             33  103106\n",
       "393             31  150564\n",
       "394             42  101738\n",
       "395             25   95329\n",
       "396              8   81035\n",
       "\n",
       "[397 rows x 2 columns]"
      ]
     },
     "execution_count": 262,
     "metadata": {},
     "output_type": "execute_result"
    }
   ],
   "source": [
    "df_num=df[[column for column in df.columns if df[column].dtypes !='O' ]]\n",
    "df_num"
   ]
  },
  {
   "cell_type": "markdown",
   "id": "4bbce647",
   "metadata": {},
   "source": [
    "# Outliers checking"
   ]
  },
  {
   "cell_type": "code",
   "execution_count": null,
   "id": "6b726cff",
   "metadata": {},
   "outputs": [],
   "source": []
  },
  {
   "cell_type": "code",
   "execution_count": 263,
   "id": "1948919b",
   "metadata": {},
   "outputs": [
    {
     "data": {
      "text/plain": [
       "<AxesSubplot:>"
      ]
     },
     "execution_count": 263,
     "metadata": {},
     "output_type": "execute_result"
    },
    {
     "data": {
      "image/png": "[encoded data removed]",
      "text/plain": [
       "<Figure size 432x288 with 1 Axes>"
      ]
     },
     "metadata": {
      "needs_background": "light"
     },
     "output_type": "display_data"
    }
   ],
   "source": [
    "df_num.boxplot()"
   ]
  },
  {
   "cell_type": "code",
   "execution_count": 264,
   "id": "bebe0ebe",
   "metadata": {},
   "outputs": [
    {
     "data": {
      "text/plain": [
       "<AxesSubplot:xlabel='yrs.since.phd'>"
      ]
     },
     "execution_count": 264,
     "metadata": {},
     "output_type": "execute_result"
    },
    {
     "data": {
      "image/png": "[encoded data removed]",
      "text/plain": [
       "<Figure size 432x288 with 1 Axes>"
      ]
     },
     "metadata": {
      "needs_background": "light"
     },
     "output_type": "display_data"
    }
   ],
   "source": [
    "sns.boxplot(df['yrs.since.phd'],orient='h' )"
   ]
  },
  {
   "cell_type": "code",
   "execution_count": 265,
   "id": "67aee94e",
   "metadata": {},
   "outputs": [
    {
     "data": {
      "text/plain": [
       "<AxesSubplot:xlabel='salary'>"
      ]
     },
     "execution_count": 265,
     "metadata": {},
     "output_type": "execute_result"
    },
    {
     "data": {
      "image/png": "[encoded data removed]",
      "text/plain": [
       "<Figure size 432x288 with 1 Axes>"
      ]
     },
     "metadata": {
      "needs_background": "light"
     },
     "output_type": "display_data"
    }
   ],
   "source": [
    "sns.boxplot(df['salary'],orient='h' )"
   ]
  },
  {
   "cell_type": "code",
   "execution_count": 266,
   "id": "125eb143",
   "metadata": {},
   "outputs": [
    {
     "data": {
      "text/plain": [
       "yrs.since.phd    0.300880\n",
       "salary           0.714568\n",
       "dtype: float64"
      ]
     },
     "execution_count": 266,
     "metadata": {},
     "output_type": "execute_result"
    }
   ],
   "source": [
    "# Conclusion:  Salary have few outliers, we need to handle them\n",
    "df_num.skew()"
   ]
  },
  {
   "cell_type": "code",
   "execution_count": 267,
   "id": "add30b39",
   "metadata": {},
   "outputs": [
    {
     "data": {
      "text/plain": [
       "152946.00000000003"
      ]
     },
     "execution_count": 267,
     "metadata": {},
     "output_type": "execute_result"
    }
   ],
   "source": [
    "#Replacing outlier with higher cap (90%) here as outliers are above.\n",
    "\n",
    "df_num['salary'].quantile(.90)"
   ]
  },
  {
   "cell_type": "code",
   "execution_count": 268,
   "id": "1bb27e89",
   "metadata": {},
   "outputs": [
    {
     "data": {
      "text/plain": [
       "231545"
      ]
     },
     "execution_count": 268,
     "metadata": {},
     "output_type": "execute_result"
    }
   ],
   "source": [
    "df_num['salary'].max()"
   ]
  },
  {
   "cell_type": "code",
   "execution_count": 269,
   "id": "8fa6432f",
   "metadata": {},
   "outputs": [],
   "source": [
    "#df['salary']= np.where(df['salary']>high,high,df['salary'])"
   ]
  },
  {
   "cell_type": "markdown",
   "id": "c5e63558",
   "metadata": {},
   "source": [
    "# (IQR) proximity rule.\n",
    "The data points which fall below Q1 – 1.5 IQR or above Q3 + 1.5 IQR are outliers."
   ]
  },
  {
   "cell_type": "code",
   "execution_count": 270,
   "id": "965e4887",
   "metadata": {},
   "outputs": [
    {
     "data": {
      "text/plain": [
       "<AxesSubplot:xlabel='salary', ylabel='Density'>"
      ]
     },
     "execution_count": 270,
     "metadata": {},
     "output_type": "execute_result"
    },
    {
     "data": {
      "image/png": "[encoded data removed]",
      "text/plain": [
       "<Figure size 432x288 with 1 Axes>"
      ]
     },
     "metadata": {
      "needs_background": "light"
     },
     "output_type": "display_data"
    }
   ],
   "source": [
    "sns.distplot(df_num['salary'])"
   ]
  },
  {
   "cell_type": "code",
   "execution_count": 271,
   "id": "96aa7049",
   "metadata": {},
   "outputs": [
    {
     "data": {
      "text/plain": [
       "43185.0"
      ]
     },
     "execution_count": 271,
     "metadata": {},
     "output_type": "execute_result"
    }
   ],
   "source": [
    "IQR= df.salary.quantile(.75)- df.salary.quantile(.25)\n",
    "IQR"
   ]
  },
  {
   "cell_type": "code",
   "execution_count": 272,
   "id": "08907624",
   "metadata": {},
   "outputs": [
    {
     "data": {
      "text/plain": [
       "198962.5"
      ]
     },
     "execution_count": 272,
     "metadata": {},
     "output_type": "execute_result"
    }
   ],
   "source": [
    "# Q3 + 1.5 IQR are outliers.\n",
    "\n",
    "upper_cap= df_num['salary'].quantile(.75)+ (1.5 * IQR)\n",
    "upper_cap"
   ]
  },
  {
   "cell_type": "code",
   "execution_count": 273,
   "id": "dd5b429b",
   "metadata": {},
   "outputs": [],
   "source": [
    "# Replace outliers with upper cap\n",
    "\n",
    "df_num['salary']= np.where(df_num['salary']>upper_cap,upper_cap,df_num['salary']  )"
   ]
  },
  {
   "cell_type": "code",
   "execution_count": 274,
   "id": "fdf2d46b",
   "metadata": {},
   "outputs": [
    {
     "data": {
      "text/plain": [
       "<AxesSubplot:xlabel='salary', ylabel='Density'>"
      ]
     },
     "execution_count": 274,
     "metadata": {},
     "output_type": "execute_result"
    },
    {
     "data": {
      "image/png": "[encoded data removed]",
      "text/plain": [
       "<Figure size 432x288 with 1 Axes>"
      ]
     },
     "metadata": {
      "needs_background": "light"
     },
     "output_type": "display_data"
    }
   ],
   "source": [
    "sns.distplot(df_num['salary'])"
   ]
  },
  {
   "cell_type": "code",
   "execution_count": 275,
   "id": "94018651",
   "metadata": {},
   "outputs": [
    {
     "data": {
      "text/plain": [
       "yrs.since.phd    0.300880\n",
       "salary           0.630253\n",
       "dtype: float64"
      ]
     },
     "execution_count": 275,
     "metadata": {},
     "output_type": "execute_result"
    }
   ],
   "source": [
    "df_num.skew()"
   ]
  },
  {
   "cell_type": "code",
   "execution_count": 276,
   "id": "5180a08b",
   "metadata": {},
   "outputs": [],
   "source": [
    "# It has removed some skewness from salary column, from .7145  to  .63.0"
   ]
  },
  {
   "cell_type": "code",
   "execution_count": 277,
   "id": "885ad5f3",
   "metadata": {},
   "outputs": [
    {
     "data": {
      "text/html": [
       "<div>\n",
       "<style scoped>\n",
       "    .dataframe tbody tr th:only-of-type {\n",
       "        vertical-align: middle;\n",
       "    }\n",
       "\n",
       "    .dataframe tbody tr th {\n",
       "        vertical-align: top;\n",
       "    }\n",
       "\n",
       "    .dataframe thead th {\n",
       "        text-align: right;\n",
       "    }\n",
       "</style>\n",
       "<table border=\"1\" class=\"dataframe\">\n",
       "  <thead>\n",
       "    <tr style=\"text-align: right;\">\n",
       "      <th></th>\n",
       "      <th>yrs.since.phd</th>\n",
       "      <th>salary</th>\n",
       "    </tr>\n",
       "  </thead>\n",
       "  <tbody>\n",
       "    <tr>\n",
       "      <th>0</th>\n",
       "      <td>19</td>\n",
       "      <td>139750.0</td>\n",
       "    </tr>\n",
       "    <tr>\n",
       "      <th>1</th>\n",
       "      <td>20</td>\n",
       "      <td>173200.0</td>\n",
       "    </tr>\n",
       "    <tr>\n",
       "      <th>2</th>\n",
       "      <td>4</td>\n",
       "      <td>79750.0</td>\n",
       "    </tr>\n",
       "    <tr>\n",
       "      <th>3</th>\n",
       "      <td>45</td>\n",
       "      <td>115000.0</td>\n",
       "    </tr>\n",
       "    <tr>\n",
       "      <th>4</th>\n",
       "      <td>40</td>\n",
       "      <td>141500.0</td>\n",
       "    </tr>\n",
       "    <tr>\n",
       "      <th>...</th>\n",
       "      <td>...</td>\n",
       "      <td>...</td>\n",
       "    </tr>\n",
       "    <tr>\n",
       "      <th>392</th>\n",
       "      <td>33</td>\n",
       "      <td>103106.0</td>\n",
       "    </tr>\n",
       "    <tr>\n",
       "      <th>393</th>\n",
       "      <td>31</td>\n",
       "      <td>150564.0</td>\n",
       "    </tr>\n",
       "    <tr>\n",
       "      <th>394</th>\n",
       "      <td>42</td>\n",
       "      <td>101738.0</td>\n",
       "    </tr>\n",
       "    <tr>\n",
       "      <th>395</th>\n",
       "      <td>25</td>\n",
       "      <td>95329.0</td>\n",
       "    </tr>\n",
       "    <tr>\n",
       "      <th>396</th>\n",
       "      <td>8</td>\n",
       "      <td>81035.0</td>\n",
       "    </tr>\n",
       "  </tbody>\n",
       "</table>\n",
       "<p>397 rows × 2 columns</p>\n",
       "</div>"
      ],
      "text/plain": [
       "     yrs.since.phd    salary\n",
       "0               19  139750.0\n",
       "1               20  173200.0\n",
       "2                4   79750.0\n",
       "3               45  115000.0\n",
       "4               40  141500.0\n",
       "..             ...       ...\n",
       "392             33  103106.0\n",
       "393             31  150564.0\n",
       "394             42  101738.0\n",
       "395             25   95329.0\n",
       "396              8   81035.0\n",
       "\n",
       "[397 rows x 2 columns]"
      ]
     },
     "execution_count": 277,
     "metadata": {},
     "output_type": "execute_result"
    }
   ],
   "source": [
    "df_num"
   ]
  },
  {
   "cell_type": "code",
   "execution_count": 278,
   "id": "c7a44c7c",
   "metadata": {},
   "outputs": [],
   "source": [
    "#Points\n",
    "x=df_num.iloc[:,:-1]\n",
    "y=df_num.iloc[:,-1]\n",
    "\n",
    "# we need to add categoricals columns to X after encoding"
   ]
  },
  {
   "cell_type": "code",
   "execution_count": 279,
   "id": "ae543ed4",
   "metadata": {},
   "outputs": [
    {
     "data": {
      "text/html": [
       "<div>\n",
       "<style scoped>\n",
       "    .dataframe tbody tr th:only-of-type {\n",
       "        vertical-align: middle;\n",
       "    }\n",
       "\n",
       "    .dataframe tbody tr th {\n",
       "        vertical-align: top;\n",
       "    }\n",
       "\n",
       "    .dataframe thead th {\n",
       "        text-align: right;\n",
       "    }\n",
       "</style>\n",
       "<table border=\"1\" class=\"dataframe\">\n",
       "  <thead>\n",
       "    <tr style=\"text-align: right;\">\n",
       "      <th></th>\n",
       "      <th>yrs.since.phd</th>\n",
       "    </tr>\n",
       "  </thead>\n",
       "  <tbody>\n",
       "    <tr>\n",
       "      <th>0</th>\n",
       "      <td>19</td>\n",
       "    </tr>\n",
       "    <tr>\n",
       "      <th>1</th>\n",
       "      <td>20</td>\n",
       "    </tr>\n",
       "    <tr>\n",
       "      <th>2</th>\n",
       "      <td>4</td>\n",
       "    </tr>\n",
       "    <tr>\n",
       "      <th>3</th>\n",
       "      <td>45</td>\n",
       "    </tr>\n",
       "    <tr>\n",
       "      <th>4</th>\n",
       "      <td>40</td>\n",
       "    </tr>\n",
       "    <tr>\n",
       "      <th>...</th>\n",
       "      <td>...</td>\n",
       "    </tr>\n",
       "    <tr>\n",
       "      <th>392</th>\n",
       "      <td>33</td>\n",
       "    </tr>\n",
       "    <tr>\n",
       "      <th>393</th>\n",
       "      <td>31</td>\n",
       "    </tr>\n",
       "    <tr>\n",
       "      <th>394</th>\n",
       "      <td>42</td>\n",
       "    </tr>\n",
       "    <tr>\n",
       "      <th>395</th>\n",
       "      <td>25</td>\n",
       "    </tr>\n",
       "    <tr>\n",
       "      <th>396</th>\n",
       "      <td>8</td>\n",
       "    </tr>\n",
       "  </tbody>\n",
       "</table>\n",
       "<p>397 rows × 1 columns</p>\n",
       "</div>"
      ],
      "text/plain": [
       "     yrs.since.phd\n",
       "0               19\n",
       "1               20\n",
       "2                4\n",
       "3               45\n",
       "4               40\n",
       "..             ...\n",
       "392             33\n",
       "393             31\n",
       "394             42\n",
       "395             25\n",
       "396              8\n",
       "\n",
       "[397 rows x 1 columns]"
      ]
     },
     "execution_count": 279,
     "metadata": {},
     "output_type": "execute_result"
    }
   ],
   "source": [
    "x"
   ]
  },
  {
   "cell_type": "markdown",
   "id": "216e46fc",
   "metadata": {},
   "source": [
    "# Transformation()"
   ]
  },
  {
   "cell_type": "code",
   "execution_count": null,
   "id": "9c6578b0",
   "metadata": {},
   "outputs": [],
   "source": []
  },
  {
   "cell_type": "code",
   "execution_count": 280,
   "id": "f9cadfe7",
   "metadata": {},
   "outputs": [],
   "source": [
    "from sklearn.preprocessing import power_transform\n",
    "x=power_transform(x, method='box-cox')\n"
   ]
  },
  {
   "cell_type": "markdown",
   "id": "2c4643b5",
   "metadata": {},
   "source": [
    "# Standardization()"
   ]
  },
  {
   "cell_type": "code",
   "execution_count": 281,
   "id": "d8163e5c",
   "metadata": {},
   "outputs": [
    {
     "data": {
      "text/plain": [
       "array([[-0.12294314],\n",
       "       [-0.04529591],\n",
       "       [-1.63292287],\n",
       "       [ 1.5595717 ],\n",
       "       [ 1.27543796],\n",
       "       [-1.36388746],\n",
       "       [ 0.66017251],\n",
       "       [ 1.5595717 ],\n",
       "       [ 0.03080915],\n",
       "       [-0.20224757],\n",
       "       [-0.72175875],\n",
       "       [-1.24319611],\n",
       "       [-2.18500357],\n",
       "       [-1.9654573 ],\n",
       "       [-0.04529591],\n",
       "       [-0.72175875],\n",
       "       [-0.12294314],\n",
       "       [ 1.15783006],\n",
       "       [ 1.09809659],\n",
       "       [ 1.21693637],\n",
       "       [ 0.72506668],\n",
       "       [ 1.03771209],\n",
       "       [ 0.91488629],\n",
       "       [ 0.25083761],\n",
       "       [-0.6289452 ],\n",
       "       [ 0.03080915],\n",
       "       [ 0.97665107],\n",
       "       [-1.49296969],\n",
       "       [-0.81773087],\n",
       "       [-0.72175875],\n",
       "       [-0.04529591],\n",
       "       [-1.24319611],\n",
       "       [-0.6289452 ],\n",
       "       [-1.63292287],\n",
       "       [-1.63292287],\n",
       "       [-1.49296969],\n",
       "       [ 0.10547402],\n",
       "       [-1.24319611],\n",
       "       [ 1.33335589],\n",
       "       [-1.02089518],\n",
       "       [ 0.17878967],\n",
       "       [ 0.17878967],\n",
       "       [ 1.27543796],\n",
       "       [ 1.15783006],\n",
       "       [-0.12294314],\n",
       "       [ 0.32169127],\n",
       "       [ 1.27543796],\n",
       "       [ 0.17878967],\n",
       "       [ 0.32169127],\n",
       "       [-2.18500357],\n",
       "       [ 0.52772122],\n",
       "       [-0.72175875],\n",
       "       [-0.81773087],\n",
       "       [-0.36636897],\n",
       "       [-0.72175875],\n",
       "       [-0.53895433],\n",
       "       [ 0.17878967],\n",
       "       [-1.02089518],\n",
       "       [-0.91727237],\n",
       "       [-1.1292516 ],\n",
       "       [-1.02089518],\n",
       "       [-1.78783443],\n",
       "       [ 0.85238857],\n",
       "       [-0.81773087],\n",
       "       [-1.63292287],\n",
       "       [-1.02089518],\n",
       "       [ 0.10547402],\n",
       "       [ 0.97665107],\n",
       "       [-0.28333976],\n",
       "       [ 0.52772122],\n",
       "       [-0.28333976],\n",
       "       [ 1.5595717 ],\n",
       "       [ 0.59440486],\n",
       "       [ 0.97665107],\n",
       "       [ 0.52772122],\n",
       "       [-1.1292516 ],\n",
       "       [-0.28333976],\n",
       "       [ 0.39141709],\n",
       "       [-1.78783443],\n",
       "       [-1.36388746],\n",
       "       [ 1.44751908],\n",
       "       [-0.28333976],\n",
       "       [ 0.10547402],\n",
       "       [-1.36388746],\n",
       "       [-0.28333976],\n",
       "       [-0.45150719],\n",
       "       [ 1.09809659],\n",
       "       [-1.9654573 ],\n",
       "       [ 0.32169127],\n",
       "       [-1.02089518],\n",
       "       [-0.91727237],\n",
       "       [-0.91727237],\n",
       "       [-0.91727237],\n",
       "       [ 1.15783006],\n",
       "       [ 0.03080915],\n",
       "       [-1.63292287],\n",
       "       [-0.28333976],\n",
       "       [-0.6289452 ],\n",
       "       [ 0.66017251],\n",
       "       [ 1.33335589],\n",
       "       [ 1.39071003],\n",
       "       [ 0.52772122],\n",
       "       [-0.36636897],\n",
       "       [-0.04529591],\n",
       "       [-0.20224757],\n",
       "       [ 0.72506668],\n",
       "       [-0.81773087],\n",
       "       [-0.91727237],\n",
       "       [-0.45150719],\n",
       "       [ 1.27543796],\n",
       "       [-0.04529591],\n",
       "       [-0.12294314],\n",
       "       [-1.78783443],\n",
       "       [ 1.09809659],\n",
       "       [-0.72175875],\n",
       "       [ 0.03080915],\n",
       "       [ 0.66017251],\n",
       "       [ 1.21693637],\n",
       "       [-1.63292287],\n",
       "       [-1.49296969],\n",
       "       [-0.53895433],\n",
       "       [ 0.78912659],\n",
       "       [ 0.25083761],\n",
       "       [ 0.32169127],\n",
       "       [ 0.25083761],\n",
       "       [ 2.04089557],\n",
       "       [ 0.52772122],\n",
       "       [-1.9654573 ],\n",
       "       [ 0.78912659],\n",
       "       [-1.63292287],\n",
       "       [-0.81773087],\n",
       "       [ 2.1433549 ],\n",
       "       [-0.91727237],\n",
       "       [-1.78783443],\n",
       "       [ 0.97665107],\n",
       "       [-0.04529591],\n",
       "       [-0.36636897],\n",
       "       [-0.28333976],\n",
       "       [-0.91727237],\n",
       "       [ 0.03080915],\n",
       "       [-0.53895433],\n",
       "       [-0.45150719],\n",
       "       [-0.12294314],\n",
       "       [-1.78783443],\n",
       "       [ 0.46007541],\n",
       "       [ 0.52772122],\n",
       "       [-1.63292287],\n",
       "       [ 0.46007541],\n",
       "       [ 1.03771209],\n",
       "       [-1.63292287],\n",
       "       [-0.53895433],\n",
       "       [-1.63292287],\n",
       "       [ 0.03080915],\n",
       "       [-0.72175875],\n",
       "       [-1.63292287],\n",
       "       [ 0.03080915],\n",
       "       [-0.72175875],\n",
       "       [-2.18500357],\n",
       "       [-1.36388746],\n",
       "       [-0.45150719],\n",
       "       [-1.9654573 ],\n",
       "       [ 0.39141709],\n",
       "       [ 0.10547402],\n",
       "       [-1.78783443],\n",
       "       [-2.18500357],\n",
       "       [ 0.03080915],\n",
       "       [-0.36636897],\n",
       "       [-0.20224757],\n",
       "       [-1.1292516 ],\n",
       "       [ 0.32169127],\n",
       "       [-1.49296969],\n",
       "       [-0.12294314],\n",
       "       [ 1.09809659],\n",
       "       [-0.04529591],\n",
       "       [-0.28333976],\n",
       "       [ 0.52772122],\n",
       "       [-0.91727237],\n",
       "       [-0.6289452 ],\n",
       "       [ 0.46007541],\n",
       "       [-1.78783443],\n",
       "       [-0.81773087],\n",
       "       [-0.20224757],\n",
       "       [-1.1292516 ],\n",
       "       [ 0.39141709],\n",
       "       [ 0.17878967],\n",
       "       [ 0.85238857],\n",
       "       [-0.6289452 ],\n",
       "       [-0.20224757],\n",
       "       [ 0.52772122],\n",
       "       [ 0.32169127],\n",
       "       [ 0.10547402],\n",
       "       [ 1.44751908],\n",
       "       [-0.12294314],\n",
       "       [-0.12294314],\n",
       "       [ 1.7239748 ],\n",
       "       [-1.02089518],\n",
       "       [-1.63292287],\n",
       "       [-1.63292287],\n",
       "       [ 0.91488629],\n",
       "       [ 1.15783006],\n",
       "       [-1.63292287],\n",
       "       [ 1.27543796],\n",
       "       [ 0.52772122],\n",
       "       [-0.28333976],\n",
       "       [-0.12294314],\n",
       "       [ 0.03080915],\n",
       "       [ 0.97665107],\n",
       "       [-0.20224757],\n",
       "       [-1.24319611],\n",
       "       [-0.04529591],\n",
       "       [-1.63292287],\n",
       "       [ 1.21693637],\n",
       "       [-0.45150719],\n",
       "       [ 0.39141709],\n",
       "       [-0.81773087],\n",
       "       [-0.36636897],\n",
       "       [-0.45150719],\n",
       "       [ 0.59440486],\n",
       "       [-0.53895433],\n",
       "       [-0.6289452 ],\n",
       "       [ 0.03080915],\n",
       "       [ 0.17878967],\n",
       "       [-0.6289452 ],\n",
       "       [ 0.91488629],\n",
       "       [ 1.15783006],\n",
       "       [-0.04529591],\n",
       "       [-1.78783443],\n",
       "       [-1.02089518],\n",
       "       [-0.36636897],\n",
       "       [ 1.21693637],\n",
       "       [ 0.59440486],\n",
       "       [ 0.39141709],\n",
       "       [ 1.15783006],\n",
       "       [ 1.03771209],\n",
       "       [-1.1292516 ],\n",
       "       [ 0.52772122],\n",
       "       [ 0.32169127],\n",
       "       [-1.24319611],\n",
       "       [ 1.61484783],\n",
       "       [-0.12294314],\n",
       "       [-1.49296969],\n",
       "       [ 0.72506668],\n",
       "       [ 1.15783006],\n",
       "       [ 0.17878967],\n",
       "       [-0.12294314],\n",
       "       [-0.28333976],\n",
       "       [ 0.66017251],\n",
       "       [ 0.03080915],\n",
       "       [ 0.52772122],\n",
       "       [ 0.59440486],\n",
       "       [ 1.21693637],\n",
       "       [-0.04529591],\n",
       "       [ 0.72506668],\n",
       "       [-1.63292287],\n",
       "       [ 0.52772122],\n",
       "       [-0.72175875],\n",
       "       [ 0.10547402],\n",
       "       [ 0.66017251],\n",
       "       [-1.02089518],\n",
       "       [ 0.78912659],\n",
       "       [ 1.33335589],\n",
       "       [ 1.5595717 ],\n",
       "       [ 0.72506668],\n",
       "       [ 0.72506668],\n",
       "       [ 1.09809659],\n",
       "       [ 1.03771209],\n",
       "       [ 1.44751908],\n",
       "       [-0.53895433],\n",
       "       [ 1.66964411],\n",
       "       [-0.6289452 ],\n",
       "       [ 1.39071003],\n",
       "       [ 1.39071003],\n",
       "       [-1.63292287],\n",
       "       [-1.1292516 ],\n",
       "       [-1.1292516 ],\n",
       "       [-0.72175875],\n",
       "       [ 1.93690267],\n",
       "       [ 0.72506668],\n",
       "       [ 0.25083761],\n",
       "       [ 1.61484783],\n",
       "       [ 1.21693637],\n",
       "       [ 1.09809659],\n",
       "       [ 1.8843054 ],\n",
       "       [ 1.5595717 ],\n",
       "       [-1.1292516 ],\n",
       "       [ 1.77785343],\n",
       "       [ 0.52772122],\n",
       "       [-1.9654573 ],\n",
       "       [ 0.59440486],\n",
       "       [-1.1292516 ],\n",
       "       [ 0.85238857],\n",
       "       [ 0.78912659],\n",
       "       [ 1.21693637],\n",
       "       [-0.81773087],\n",
       "       [-0.12294314],\n",
       "       [ 1.27543796],\n",
       "       [-0.20224757],\n",
       "       [-0.28333976],\n",
       "       [ 1.77785343],\n",
       "       [ 1.5595717 ],\n",
       "       [ 1.21693637],\n",
       "       [ 0.46007541],\n",
       "       [ 0.52772122],\n",
       "       [-0.53895433],\n",
       "       [ 1.61484783],\n",
       "       [ 0.85238857],\n",
       "       [-1.24319611],\n",
       "       [ 0.72506668],\n",
       "       [-1.49296969],\n",
       "       [ 0.10547402],\n",
       "       [-0.04529591],\n",
       "       [-0.53895433],\n",
       "       [ 0.59440486],\n",
       "       [ 0.97665107],\n",
       "       [ 0.10547402],\n",
       "       [-1.36388746],\n",
       "       [-0.72175875],\n",
       "       [ 1.61484783],\n",
       "       [-0.36636897],\n",
       "       [-0.36636897],\n",
       "       [ 0.25083761],\n",
       "       [-1.02089518],\n",
       "       [-0.6289452 ],\n",
       "       [ 0.25083761],\n",
       "       [ 0.66017251],\n",
       "       [-1.1292516 ],\n",
       "       [ 0.17878967],\n",
       "       [ 1.09809659],\n",
       "       [-0.91727237],\n",
       "       [ 0.17878967],\n",
       "       [ 1.77785343],\n",
       "       [-0.04529591],\n",
       "       [-0.20224757],\n",
       "       [ 0.85238857],\n",
       "       [-0.12294314],\n",
       "       [ 1.03771209],\n",
       "       [ 0.97665107],\n",
       "       [-0.6289452 ],\n",
       "       [ 0.78912659],\n",
       "       [ 1.09809659],\n",
       "       [-0.6289452 ],\n",
       "       [-0.28333976],\n",
       "       [ 1.15783006],\n",
       "       [ 0.72506668],\n",
       "       [ 0.78912659],\n",
       "       [-0.45150719],\n",
       "       [ 1.33335589],\n",
       "       [ 1.21693637],\n",
       "       [-1.63292287],\n",
       "       [ 0.46007541],\n",
       "       [ 2.1433549 ],\n",
       "       [ 1.15783006],\n",
       "       [ 0.39141709],\n",
       "       [ 0.10547402],\n",
       "       [-1.1292516 ],\n",
       "       [ 0.32169127],\n",
       "       [ 1.77785343],\n",
       "       [ 1.21693637],\n",
       "       [ 0.52772122],\n",
       "       [-0.81773087],\n",
       "       [-0.53895433],\n",
       "       [ 0.17878967],\n",
       "       [ 0.66017251],\n",
       "       [-0.04529591],\n",
       "       [ 1.44751908],\n",
       "       [ 1.44751908],\n",
       "       [-0.45150719],\n",
       "       [-0.91727237],\n",
       "       [ 0.97665107],\n",
       "       [ 0.85238857],\n",
       "       [-0.6289452 ],\n",
       "       [ 0.17878967],\n",
       "       [-0.72175875],\n",
       "       [ 0.66017251],\n",
       "       [ 0.46007541],\n",
       "       [ 0.52772122],\n",
       "       [-1.63292287],\n",
       "       [-1.36388746],\n",
       "       [ 1.15783006],\n",
       "       [-0.81773087],\n",
       "       [-1.1292516 ],\n",
       "       [ 0.46007541],\n",
       "       [-1.1292516 ],\n",
       "       [ 1.50380073],\n",
       "       [ 0.46007541],\n",
       "       [-0.45150719],\n",
       "       [ 0.59440486],\n",
       "       [ 0.59440486],\n",
       "       [ 1.15783006],\n",
       "       [ 0.85238857],\n",
       "       [ 1.27543796],\n",
       "       [ 0.66017251],\n",
       "       [ 0.85238857],\n",
       "       [ 0.72506668],\n",
       "       [ 1.39071003],\n",
       "       [ 0.32169127],\n",
       "       [-1.1292516 ]])"
      ]
     },
     "execution_count": 281,
     "metadata": {},
     "output_type": "execute_result"
    }
   ],
   "source": [
    "from sklearn.preprocessing import StandardScaler\n",
    "sc= StandardScaler()\n",
    "x= sc.fit_transform(x)\n",
    "x"
   ]
  },
  {
   "cell_type": "code",
   "execution_count": 310,
   "id": "b8cf983e",
   "metadata": {},
   "outputs": [],
   "source": [
    "x=pd.DataFrame(x)"
   ]
  },
  {
   "cell_type": "markdown",
   "id": "f71c8c92",
   "metadata": {},
   "source": [
    "# Lets encode for categorical features"
   ]
  },
  {
   "cell_type": "code",
   "execution_count": 295,
   "id": "ef17974f",
   "metadata": {},
   "outputs": [
    {
     "data": {
      "text/html": [
       "<div>\n",
       "<style scoped>\n",
       "    .dataframe tbody tr th:only-of-type {\n",
       "        vertical-align: middle;\n",
       "    }\n",
       "\n",
       "    .dataframe tbody tr th {\n",
       "        vertical-align: top;\n",
       "    }\n",
       "\n",
       "    .dataframe thead th {\n",
       "        text-align: right;\n",
       "    }\n",
       "</style>\n",
       "<table border=\"1\" class=\"dataframe\">\n",
       "  <thead>\n",
       "    <tr style=\"text-align: right;\">\n",
       "      <th></th>\n",
       "      <th>rank</th>\n",
       "      <th>discipline</th>\n",
       "      <th>sex</th>\n",
       "    </tr>\n",
       "  </thead>\n",
       "  <tbody>\n",
       "    <tr>\n",
       "      <th>0</th>\n",
       "      <td>Prof</td>\n",
       "      <td>B</td>\n",
       "      <td>Male</td>\n",
       "    </tr>\n",
       "    <tr>\n",
       "      <th>1</th>\n",
       "      <td>Prof</td>\n",
       "      <td>B</td>\n",
       "      <td>Male</td>\n",
       "    </tr>\n",
       "    <tr>\n",
       "      <th>2</th>\n",
       "      <td>AsstProf</td>\n",
       "      <td>B</td>\n",
       "      <td>Male</td>\n",
       "    </tr>\n",
       "    <tr>\n",
       "      <th>3</th>\n",
       "      <td>Prof</td>\n",
       "      <td>B</td>\n",
       "      <td>Male</td>\n",
       "    </tr>\n",
       "    <tr>\n",
       "      <th>4</th>\n",
       "      <td>Prof</td>\n",
       "      <td>B</td>\n",
       "      <td>Male</td>\n",
       "    </tr>\n",
       "    <tr>\n",
       "      <th>...</th>\n",
       "      <td>...</td>\n",
       "      <td>...</td>\n",
       "      <td>...</td>\n",
       "    </tr>\n",
       "    <tr>\n",
       "      <th>392</th>\n",
       "      <td>Prof</td>\n",
       "      <td>A</td>\n",
       "      <td>Male</td>\n",
       "    </tr>\n",
       "    <tr>\n",
       "      <th>393</th>\n",
       "      <td>Prof</td>\n",
       "      <td>A</td>\n",
       "      <td>Male</td>\n",
       "    </tr>\n",
       "    <tr>\n",
       "      <th>394</th>\n",
       "      <td>Prof</td>\n",
       "      <td>A</td>\n",
       "      <td>Male</td>\n",
       "    </tr>\n",
       "    <tr>\n",
       "      <th>395</th>\n",
       "      <td>Prof</td>\n",
       "      <td>A</td>\n",
       "      <td>Male</td>\n",
       "    </tr>\n",
       "    <tr>\n",
       "      <th>396</th>\n",
       "      <td>AsstProf</td>\n",
       "      <td>A</td>\n",
       "      <td>Male</td>\n",
       "    </tr>\n",
       "  </tbody>\n",
       "</table>\n",
       "<p>397 rows × 3 columns</p>\n",
       "</div>"
      ],
      "text/plain": [
       "         rank discipline   sex\n",
       "0        Prof          B  Male\n",
       "1        Prof          B  Male\n",
       "2    AsstProf          B  Male\n",
       "3        Prof          B  Male\n",
       "4        Prof          B  Male\n",
       "..        ...        ...   ...\n",
       "392      Prof          A  Male\n",
       "393      Prof          A  Male\n",
       "394      Prof          A  Male\n",
       "395      Prof          A  Male\n",
       "396  AsstProf          A  Male\n",
       "\n",
       "[397 rows x 3 columns]"
      ]
     },
     "execution_count": 295,
     "metadata": {},
     "output_type": "execute_result"
    }
   ],
   "source": [
    "df_cat"
   ]
  },
  {
   "cell_type": "code",
   "execution_count": 296,
   "id": "e7f416dd",
   "metadata": {},
   "outputs": [
    {
     "data": {
      "text/plain": [
       "array(['Prof', 'AsstProf', 'AssocProf'], dtype=object)"
      ]
     },
     "execution_count": 296,
     "metadata": {},
     "output_type": "execute_result"
    }
   ],
   "source": [
    "df_cat['rank'].unique()"
   ]
  },
  {
   "cell_type": "code",
   "execution_count": 297,
   "id": "92bb1f16",
   "metadata": {},
   "outputs": [],
   "source": [
    "df_cat['rank']=df_cat['rank'].map({'AsstProf':1,'AssocProf':2,'Prof':3})"
   ]
  },
  {
   "cell_type": "code",
   "execution_count": 298,
   "id": "dca5eeb7",
   "metadata": {},
   "outputs": [],
   "source": [
    "df_cat['discipline']= df_cat['discipline'].map({'B':1,'A':2})"
   ]
  },
  {
   "cell_type": "code",
   "execution_count": 304,
   "id": "52d19bb5",
   "metadata": {},
   "outputs": [],
   "source": [
    "df_cat['sex_onehot']=   pd.get_dummies(df_cat['sex'],drop_first=True)"
   ]
  },
  {
   "cell_type": "code",
   "execution_count": 307,
   "id": "1dfec0d8",
   "metadata": {},
   "outputs": [],
   "source": [
    "df_cat.drop('sex', axis=1,inplace=True)"
   ]
  },
  {
   "cell_type": "code",
   "execution_count": 308,
   "id": "7539815f",
   "metadata": {},
   "outputs": [
    {
     "data": {
      "text/html": [
       "<div>\n",
       "<style scoped>\n",
       "    .dataframe tbody tr th:only-of-type {\n",
       "        vertical-align: middle;\n",
       "    }\n",
       "\n",
       "    .dataframe tbody tr th {\n",
       "        vertical-align: top;\n",
       "    }\n",
       "\n",
       "    .dataframe thead th {\n",
       "        text-align: right;\n",
       "    }\n",
       "</style>\n",
       "<table border=\"1\" class=\"dataframe\">\n",
       "  <thead>\n",
       "    <tr style=\"text-align: right;\">\n",
       "      <th></th>\n",
       "      <th>rank</th>\n",
       "      <th>discipline</th>\n",
       "      <th>sex_onehot</th>\n",
       "    </tr>\n",
       "  </thead>\n",
       "  <tbody>\n",
       "    <tr>\n",
       "      <th>0</th>\n",
       "      <td>3</td>\n",
       "      <td>1</td>\n",
       "      <td>1</td>\n",
       "    </tr>\n",
       "    <tr>\n",
       "      <th>1</th>\n",
       "      <td>3</td>\n",
       "      <td>1</td>\n",
       "      <td>1</td>\n",
       "    </tr>\n",
       "    <tr>\n",
       "      <th>2</th>\n",
       "      <td>1</td>\n",
       "      <td>1</td>\n",
       "      <td>1</td>\n",
       "    </tr>\n",
       "    <tr>\n",
       "      <th>3</th>\n",
       "      <td>3</td>\n",
       "      <td>1</td>\n",
       "      <td>1</td>\n",
       "    </tr>\n",
       "    <tr>\n",
       "      <th>4</th>\n",
       "      <td>3</td>\n",
       "      <td>1</td>\n",
       "      <td>1</td>\n",
       "    </tr>\n",
       "    <tr>\n",
       "      <th>...</th>\n",
       "      <td>...</td>\n",
       "      <td>...</td>\n",
       "      <td>...</td>\n",
       "    </tr>\n",
       "    <tr>\n",
       "      <th>392</th>\n",
       "      <td>3</td>\n",
       "      <td>2</td>\n",
       "      <td>1</td>\n",
       "    </tr>\n",
       "    <tr>\n",
       "      <th>393</th>\n",
       "      <td>3</td>\n",
       "      <td>2</td>\n",
       "      <td>1</td>\n",
       "    </tr>\n",
       "    <tr>\n",
       "      <th>394</th>\n",
       "      <td>3</td>\n",
       "      <td>2</td>\n",
       "      <td>1</td>\n",
       "    </tr>\n",
       "    <tr>\n",
       "      <th>395</th>\n",
       "      <td>3</td>\n",
       "      <td>2</td>\n",
       "      <td>1</td>\n",
       "    </tr>\n",
       "    <tr>\n",
       "      <th>396</th>\n",
       "      <td>1</td>\n",
       "      <td>2</td>\n",
       "      <td>1</td>\n",
       "    </tr>\n",
       "  </tbody>\n",
       "</table>\n",
       "<p>397 rows × 3 columns</p>\n",
       "</div>"
      ],
      "text/plain": [
       "     rank  discipline  sex_onehot\n",
       "0       3           1           1\n",
       "1       3           1           1\n",
       "2       1           1           1\n",
       "3       3           1           1\n",
       "4       3           1           1\n",
       "..    ...         ...         ...\n",
       "392     3           2           1\n",
       "393     3           2           1\n",
       "394     3           2           1\n",
       "395     3           2           1\n",
       "396     1           2           1\n",
       "\n",
       "[397 rows x 3 columns]"
      ]
     },
     "execution_count": 308,
     "metadata": {},
     "output_type": "execute_result"
    }
   ],
   "source": [
    "df_cat"
   ]
  },
  {
   "cell_type": "code",
   "execution_count": 313,
   "id": "f710d2b0",
   "metadata": {},
   "outputs": [],
   "source": [
    "# Combine total inputs\n",
    "x=pd.concat([df_cat,x],axis=1)"
   ]
  },
  {
   "cell_type": "code",
   "execution_count": 322,
   "id": "f97f7b43",
   "metadata": {},
   "outputs": [
    {
     "data": {
      "text/plain": [
       "(397, 4)"
      ]
     },
     "execution_count": 322,
     "metadata": {},
     "output_type": "execute_result"
    }
   ],
   "source": [
    "x.shape"
   ]
  },
  {
   "cell_type": "code",
   "execution_count": 323,
   "id": "222c6740",
   "metadata": {},
   "outputs": [
    {
     "data": {
      "text/plain": [
       "(397,)"
      ]
     },
     "execution_count": 323,
     "metadata": {},
     "output_type": "execute_result"
    }
   ],
   "source": [
    "y.shape"
   ]
  },
  {
   "cell_type": "code",
   "execution_count": 325,
   "id": "52c92145",
   "metadata": {},
   "outputs": [
    {
     "data": {
      "text/html": [
       "<div>\n",
       "<style scoped>\n",
       "    .dataframe tbody tr th:only-of-type {\n",
       "        vertical-align: middle;\n",
       "    }\n",
       "\n",
       "    .dataframe tbody tr th {\n",
       "        vertical-align: top;\n",
       "    }\n",
       "\n",
       "    .dataframe thead th {\n",
       "        text-align: right;\n",
       "    }\n",
       "</style>\n",
       "<table border=\"1\" class=\"dataframe\">\n",
       "  <thead>\n",
       "    <tr style=\"text-align: right;\">\n",
       "      <th></th>\n",
       "      <th>rank</th>\n",
       "      <th>discipline</th>\n",
       "      <th>sex_onehot</th>\n",
       "      <th>0</th>\n",
       "    </tr>\n",
       "  </thead>\n",
       "  <tbody>\n",
       "    <tr>\n",
       "      <th>0</th>\n",
       "      <td>3</td>\n",
       "      <td>1</td>\n",
       "      <td>1</td>\n",
       "      <td>-0.122943</td>\n",
       "    </tr>\n",
       "    <tr>\n",
       "      <th>1</th>\n",
       "      <td>3</td>\n",
       "      <td>1</td>\n",
       "      <td>1</td>\n",
       "      <td>-0.045296</td>\n",
       "    </tr>\n",
       "    <tr>\n",
       "      <th>2</th>\n",
       "      <td>1</td>\n",
       "      <td>1</td>\n",
       "      <td>1</td>\n",
       "      <td>-1.632923</td>\n",
       "    </tr>\n",
       "    <tr>\n",
       "      <th>3</th>\n",
       "      <td>3</td>\n",
       "      <td>1</td>\n",
       "      <td>1</td>\n",
       "      <td>1.559572</td>\n",
       "    </tr>\n",
       "    <tr>\n",
       "      <th>4</th>\n",
       "      <td>3</td>\n",
       "      <td>1</td>\n",
       "      <td>1</td>\n",
       "      <td>1.275438</td>\n",
       "    </tr>\n",
       "    <tr>\n",
       "      <th>...</th>\n",
       "      <td>...</td>\n",
       "      <td>...</td>\n",
       "      <td>...</td>\n",
       "      <td>...</td>\n",
       "    </tr>\n",
       "    <tr>\n",
       "      <th>392</th>\n",
       "      <td>3</td>\n",
       "      <td>2</td>\n",
       "      <td>1</td>\n",
       "      <td>0.852389</td>\n",
       "    </tr>\n",
       "    <tr>\n",
       "      <th>393</th>\n",
       "      <td>3</td>\n",
       "      <td>2</td>\n",
       "      <td>1</td>\n",
       "      <td>0.725067</td>\n",
       "    </tr>\n",
       "    <tr>\n",
       "      <th>394</th>\n",
       "      <td>3</td>\n",
       "      <td>2</td>\n",
       "      <td>1</td>\n",
       "      <td>1.390710</td>\n",
       "    </tr>\n",
       "    <tr>\n",
       "      <th>395</th>\n",
       "      <td>3</td>\n",
       "      <td>2</td>\n",
       "      <td>1</td>\n",
       "      <td>0.321691</td>\n",
       "    </tr>\n",
       "    <tr>\n",
       "      <th>396</th>\n",
       "      <td>1</td>\n",
       "      <td>2</td>\n",
       "      <td>1</td>\n",
       "      <td>-1.129252</td>\n",
       "    </tr>\n",
       "  </tbody>\n",
       "</table>\n",
       "<p>397 rows × 4 columns</p>\n",
       "</div>"
      ],
      "text/plain": [
       "     rank  discipline  sex_onehot         0\n",
       "0       3           1           1 -0.122943\n",
       "1       3           1           1 -0.045296\n",
       "2       1           1           1 -1.632923\n",
       "3       3           1           1  1.559572\n",
       "4       3           1           1  1.275438\n",
       "..    ...         ...         ...       ...\n",
       "392     3           2           1  0.852389\n",
       "393     3           2           1  0.725067\n",
       "394     3           2           1  1.390710\n",
       "395     3           2           1  0.321691\n",
       "396     1           2           1 -1.129252\n",
       "\n",
       "[397 rows x 4 columns]"
      ]
     },
     "execution_count": 325,
     "metadata": {},
     "output_type": "execute_result"
    }
   ],
   "source": [
    "x"
   ]
  },
  {
   "cell_type": "code",
   "execution_count": 328,
   "id": "bcd6d3a8",
   "metadata": {},
   "outputs": [
    {
     "data": {
      "text/html": [
       "<div>\n",
       "<style scoped>\n",
       "    .dataframe tbody tr th:only-of-type {\n",
       "        vertical-align: middle;\n",
       "    }\n",
       "\n",
       "    .dataframe tbody tr th {\n",
       "        vertical-align: top;\n",
       "    }\n",
       "\n",
       "    .dataframe thead th {\n",
       "        text-align: right;\n",
       "    }\n",
       "</style>\n",
       "<table border=\"1\" class=\"dataframe\">\n",
       "  <thead>\n",
       "    <tr style=\"text-align: right;\">\n",
       "      <th></th>\n",
       "      <th>salary</th>\n",
       "    </tr>\n",
       "  </thead>\n",
       "  <tbody>\n",
       "    <tr>\n",
       "      <th>0</th>\n",
       "      <td>139750.0</td>\n",
       "    </tr>\n",
       "    <tr>\n",
       "      <th>1</th>\n",
       "      <td>173200.0</td>\n",
       "    </tr>\n",
       "    <tr>\n",
       "      <th>2</th>\n",
       "      <td>79750.0</td>\n",
       "    </tr>\n",
       "    <tr>\n",
       "      <th>3</th>\n",
       "      <td>115000.0</td>\n",
       "    </tr>\n",
       "    <tr>\n",
       "      <th>4</th>\n",
       "      <td>141500.0</td>\n",
       "    </tr>\n",
       "    <tr>\n",
       "      <th>...</th>\n",
       "      <td>...</td>\n",
       "    </tr>\n",
       "    <tr>\n",
       "      <th>392</th>\n",
       "      <td>103106.0</td>\n",
       "    </tr>\n",
       "    <tr>\n",
       "      <th>393</th>\n",
       "      <td>150564.0</td>\n",
       "    </tr>\n",
       "    <tr>\n",
       "      <th>394</th>\n",
       "      <td>101738.0</td>\n",
       "    </tr>\n",
       "    <tr>\n",
       "      <th>395</th>\n",
       "      <td>95329.0</td>\n",
       "    </tr>\n",
       "    <tr>\n",
       "      <th>396</th>\n",
       "      <td>81035.0</td>\n",
       "    </tr>\n",
       "  </tbody>\n",
       "</table>\n",
       "<p>397 rows × 1 columns</p>\n",
       "</div>"
      ],
      "text/plain": [
       "       salary\n",
       "0    139750.0\n",
       "1    173200.0\n",
       "2     79750.0\n",
       "3    115000.0\n",
       "4    141500.0\n",
       "..        ...\n",
       "392  103106.0\n",
       "393  150564.0\n",
       "394  101738.0\n",
       "395   95329.0\n",
       "396   81035.0\n",
       "\n",
       "[397 rows x 1 columns]"
      ]
     },
     "execution_count": 328,
     "metadata": {},
     "output_type": "execute_result"
    }
   ],
   "source": [
    "y= pd.DataFrame(y)\n",
    "y"
   ]
  },
  {
   "cell_type": "markdown",
   "id": "87052a1d",
   "metadata": {},
   "source": [
    "# Machine Learning"
   ]
  },
  {
   "cell_type": "code",
   "execution_count": 316,
   "id": "65920f49",
   "metadata": {},
   "outputs": [],
   "source": [
    "# This is a regression problem statement"
   ]
  },
  {
   "cell_type": "code",
   "execution_count": 329,
   "id": "eadf98fc",
   "metadata": {},
   "outputs": [],
   "source": [
    "# For Train Test split, need to find best Random state value\n",
    "\n",
    "from sklearn.model_selection import train_test_split\n",
    "from sklearn.linear_model import LinearRegression\n",
    "from sklearn.metrics import mean_squared_error, r2_score\n",
    "lr=LinearRegression()"
   ]
  },
  {
   "cell_type": "code",
   "execution_count": 336,
   "id": "66d44a8d",
   "metadata": {},
   "outputs": [
    {
     "data": {
      "text/plain": [
       "LinearRegression()"
      ]
     },
     "execution_count": 336,
     "metadata": {},
     "output_type": "execute_result"
    }
   ],
   "source": [
    "x_train,x_test,y_train,y_test= train_test_split(x,y,random_state=55, test_size=.20)\n",
    "lr.fit(x_train,y_train)\n"
   ]
  },
  {
   "cell_type": "code",
   "execution_count": null,
   "id": "a2308668",
   "metadata": {},
   "outputs": [],
   "source": []
  },
  {
   "cell_type": "code",
   "execution_count": 344,
   "id": "09d7bf73",
   "metadata": {},
   "outputs": [],
   "source": [
    "ppp=lr.predict(x_test)"
   ]
  },
  {
   "cell_type": "code",
   "execution_count": 357,
   "id": "67dfd89d",
   "metadata": {},
   "outputs": [
    {
     "data": {
      "text/plain": [
       "1169426944.2568874"
      ]
     },
     "execution_count": 357,
     "metadata": {},
     "output_type": "execute_result"
    }
   ],
   "source": [
    "mean_squared_error(y_test,ppp)"
   ]
  },
  {
   "cell_type": "code",
   "execution_count": null,
   "id": "32977941",
   "metadata": {},
   "outputs": [],
   "source": []
  },
  {
   "cell_type": "code",
   "execution_count": null,
   "id": "a8e03999",
   "metadata": {},
   "outputs": [],
   "source": []
  },
  {
   "cell_type": "code",
   "execution_count": 351,
   "id": "74e96d71",
   "metadata": {},
   "outputs": [
    {
     "name": "stdout",
     "output_type": "stream",
     "text": [
      "Not equalls\n",
      "Not equalls\n",
      "Not equalls\n",
      "Not equalls\n",
      "Not equalls\n",
      "Not equalls\n",
      "Not equalls\n",
      "Not equalls\n",
      "Not equalls\n",
      "Not equalls\n",
      "Not equalls\n",
      "Not equalls\n",
      "Not equalls\n",
      "Not equalls\n",
      "Not equalls\n",
      "Not equalls\n",
      "Not equalls\n",
      "Not equalls\n",
      "Not equalls\n",
      "Not equalls\n",
      "Not equalls\n",
      "Not equalls\n",
      "Not equalls\n",
      "Not equalls\n",
      "Not equalls\n",
      "Not equalls\n",
      "Not equalls\n",
      "Not equalls\n",
      "Not equalls\n",
      "Not equalls\n",
      "Not equalls\n",
      "Not equalls\n",
      "Not equalls\n",
      "Not equalls\n",
      "Not equalls\n",
      "Not equalls\n",
      "Not equalls\n",
      "Not equalls\n",
      "Not equalls\n",
      "Not equalls\n",
      "Not equalls\n",
      "Not equalls\n",
      "Not equalls\n",
      "Not equalls\n",
      "Not equalls\n",
      "Not equalls\n",
      "Not equalls\n",
      "Not equalls\n",
      "Not equalls\n",
      "Not equalls\n",
      "Not equalls\n",
      "Not equalls\n",
      "Not equalls\n",
      "Not equalls\n",
      "Not equalls\n",
      "Not equalls\n",
      "Not equalls\n",
      "Not equalls\n",
      "Not equalls\n",
      "Not equalls\n",
      "Not equalls\n",
      "Not equalls\n",
      "Not equalls\n",
      "Not equalls\n",
      "Not equalls\n",
      "Not equalls\n",
      "Not equalls\n",
      "Not equalls\n",
      "Not equalls\n",
      "Not equalls\n",
      "Not equalls\n",
      "Not equalls\n",
      "Not equalls\n",
      "Not equalls\n",
      "Not equalls\n",
      "Not equalls\n",
      "Not equalls\n",
      "Not equalls\n",
      "Not equalls\n",
      "Not equalls\n",
      "Not equalls\n",
      "Not equalls\n",
      "Not equalls\n",
      "Not equalls\n",
      "Not equalls\n",
      "Not equalls\n",
      "Not equalls\n",
      "Not equalls\n",
      "Not equalls\n",
      "Not equalls\n",
      "Not equalls\n",
      "Not equalls\n",
      "Not equalls\n",
      "Not equalls\n",
      "Not equalls\n",
      "Not equalls\n",
      "Not equalls\n",
      "Not equalls\n",
      "Not equalls\n",
      "Not equalls\n"
     ]
    }
   ],
   "source": [
    "for i in range(0,100):\n",
    "    x_train,x_test,y_train,y_test= train_test_split(x,y,random_state=i, test_size=.20)\n",
    "    lr.fit(x_train,y_train)\n",
    "    predict_train=lr.predict(x_train)\n",
    "    predict_test=lr.predict(x_test)\n",
    "    if round(mean_squared_error(y_train,predict_train)*100,10)== round(mean_squared_error(y_test,predict_test)*100,10):\n",
    "        print(\"At random state \", i, \"The model performance very well\")\n",
    "        print(\"At random state: \",i)\n",
    "        print(\"Training Mean squared error is: \", round(mean_squared_error(y_train,predict_train)*100,2))\n",
    "        print('Test Mean squared error is: ', round(mean_squared_error(y_test,predict_test)*100,2))\n",
    "        print('X'*50,'\\n')\n",
    "    else: print(\"Not equalls\")"
   ]
  },
  {
   "cell_type": "code",
   "execution_count": null,
   "id": "a290e78d",
   "metadata": {},
   "outputs": [],
   "source": []
  }
 ],
 "metadata": {
  "kernelspec": {
   "display_name": "Python 3 (ipykernel)",
   "language": "python",
   "name": "python3"
  },
  "language_info": {
   "codemirror_mode": {
    "name": "ipython",
    "version": 3
   },
   "file_extension": ".py",
   "mimetype": "text/x-python",
   "name": "python",
   "nbconvert_exporter": "python",
   "pygments_lexer": "ipython3",
   "version": "3.9.7"
  }
 },
 "nbformat": 4,
 "nbformat_minor": 5
}
